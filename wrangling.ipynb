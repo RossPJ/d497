{
 "cells": [
  {
   "cell_type": "code",
   "execution_count": 30,
   "metadata": {},
   "outputs": [],
   "source": [
    "import pandas as pd "
   ]
  },
  {
   "cell_type": "code",
   "execution_count": null,
   "metadata": {},
   "outputs": [],
   "source": []
  },
  {
   "cell_type": "markdown",
   "metadata": {},
   "source": [
    "For this project, I will be examining two datasets related to fatal helicopter crashes. "
   ]
  },
  {
   "cell_type": "code",
   "execution_count": 31,
   "metadata": {},
   "outputs": [],
   "source": [
    "df_csv = pd.read_csv(\"helicopter_crash_data.csv\")\n",
    "df_json = pd.read_json(\"helicopter_crash_data.json\")"
   ]
  },
  {
   "cell_type": "code",
   "execution_count": 32,
   "metadata": {},
   "outputs": [
    {
     "name": "stdout",
     "output_type": "stream",
     "text": [
      "<class 'pandas.core.frame.DataFrame'>\n",
      "RangeIndex: 702 entries, 0 to 701\n",
      "Data columns (total 38 columns):\n",
      " #   Column               Non-Null Count  Dtype  \n",
      "---  ------               --------------  -----  \n",
      " 0   NtsbNo               702 non-null    object \n",
      " 1   EventType            702 non-null    object \n",
      " 2   Mkey                 702 non-null    int64  \n",
      " 3   EventDate            702 non-null    object \n",
      " 4   City                 700 non-null    object \n",
      " 5   State                318 non-null    object \n",
      " 6   Country              702 non-null    object \n",
      " 7   ReportNo             9 non-null      object \n",
      " 8   N                    702 non-null    object \n",
      " 9   HasSafetyRec         702 non-null    bool   \n",
      " 10  ReportType           324 non-null    object \n",
      " 11  OriginalPublishDate  385 non-null    object \n",
      " 12  HighestInjuryLevel   702 non-null    object \n",
      " 13  FatalInjuryCount     702 non-null    int64  \n",
      " 14  SeriousInjuryCount   702 non-null    int64  \n",
      " 15  MinorInjuryCount     702 non-null    int64  \n",
      " 16  ProbableCause        296 non-null    object \n",
      " 17  EventID              0 non-null      float64\n",
      " 18  Latitude             702 non-null    float64\n",
      " 19  Longitude            702 non-null    float64\n",
      " 20  Make                 701 non-null    object \n",
      " 21  Model                702 non-null    object \n",
      " 22  AirCraftCategory     702 non-null    object \n",
      " 23  AirportID            105 non-null    object \n",
      " 24  AirportName          107 non-null    object \n",
      " 25  AmateurBuilt         702 non-null    object \n",
      " 26  NumberOfEngines      468 non-null    object \n",
      " 27  Scheduled            79 non-null     object \n",
      " 28  PurposeOfFlight      425 non-null    object \n",
      " 29  FAR                  652 non-null    object \n",
      " 30  AirCraftDamage       689 non-null    object \n",
      " 31  WeatherCondition     402 non-null    object \n",
      " 32  Operator             398 non-null    object \n",
      " 33  ReportStatus         324 non-null    object \n",
      " 34  RepGenFlag           702 non-null    bool   \n",
      " 35  DocketUrl            365 non-null    object \n",
      " 36  DocketPublishDate    365 non-null    object \n",
      " 37  Unnamed: 37          0 non-null      float64\n",
      "dtypes: bool(2), float64(4), int64(4), object(28)\n",
      "memory usage: 198.9+ KB\n"
     ]
    }
   ],
   "source": [
    "df_csv.info()"
   ]
  },
  {
   "cell_type": "code",
   "execution_count": 22,
   "metadata": {},
   "outputs": [
    {
     "name": "stdout",
     "output_type": "stream",
     "text": [
      "<class 'pandas.core.frame.DataFrame'>\n",
      "RangeIndex: 702 entries, 0 to 701\n",
      "Data columns (total 39 columns):\n",
      " #   Column                     Non-Null Count  Dtype  \n",
      "---  ------                     --------------  -----  \n",
      " 0   Oid                        702 non-null    object \n",
      " 1   MKey                       702 non-null    int64  \n",
      " 2   Closed                     702 non-null    bool   \n",
      " 3   CompletionStatus           702 non-null    object \n",
      " 4   HasSafetyRec               702 non-null    bool   \n",
      " 5   HighestInjury              702 non-null    object \n",
      " 6   IsStudy                    702 non-null    bool   \n",
      " 7   Mode                       702 non-null    object \n",
      " 8   NtsbNumber                 702 non-null    object \n",
      " 9   OriginalPublishedDate      385 non-null    object \n",
      " 10  MostRecentReportType       527 non-null    object \n",
      " 11  ProbableCause              297 non-null    object \n",
      " 12  City                       702 non-null    object \n",
      " 13  Country                    702 non-null    object \n",
      " 14  EventDate                  702 non-null    object \n",
      " 15  State                      353 non-null    object \n",
      " 16  Agency                     702 non-null    object \n",
      " 17  BoardLaunch                702 non-null    bool   \n",
      " 18  BoardMeetingDate           2 non-null      object \n",
      " 19  DocketDate                 1 non-null      object \n",
      " 20  EventType                  702 non-null    object \n",
      " 21  Launch                     520 non-null    object \n",
      " 22  ReportDate                 468 non-null    object \n",
      " 23  ReportNum                  10 non-null     object \n",
      " 24  ReportType                 702 non-null    object \n",
      " 25  Vehicles                   702 non-null    object \n",
      " 26  AirportId                  112 non-null    object \n",
      " 27  AirportName                111 non-null    object \n",
      " 28  AnalysisNarrative          545 non-null    object \n",
      " 29  FactualNarrative           544 non-null    object \n",
      " 30  PrelimNarrative            32 non-null     object \n",
      " 31  FatalInjuryCount           702 non-null    int64  \n",
      " 32  MinorInjuryCount           702 non-null    int64  \n",
      " 33  SeriousInjuryCount         702 non-null    int64  \n",
      " 34  InvestigationClass         0 non-null      float64\n",
      " 35  AccidentSiteCondition      402 non-null    object \n",
      " 36  Latitude                   529 non-null    float64\n",
      " 37  Longitude                  529 non-null    float64\n",
      " 38  DocketOriginalPublishDate  365 non-null    object \n",
      "dtypes: bool(4), float64(3), int64(4), object(28)\n",
      "memory usage: 194.8+ KB\n"
     ]
    }
   ],
   "source": [
    "df_json.info()"
   ]
  },
  {
   "cell_type": "code",
   "execution_count": 34,
   "metadata": {},
   "outputs": [
    {
     "data": {
      "text/plain": [
       "0                                                   None\n",
       "1                                                   None\n",
       "2                                                   None\n",
       "3                                                   None\n",
       "4                                                   None\n",
       "                             ...                        \n",
       "697    HISTORY OF FLIGHT&#x0D;\\n&#x0D;\\nOn February 1...\n",
       "698    HISTORY OF FLIGHT &#x0D;\\n&#x0D;\\nOn February ...\n",
       "699    On February 4, 2010, about 1940 Atlantic stand...\n",
       "700    On January 27, 2010, at 1323 coordinated unive...\n",
       "701    HISTORY OF FLIGHT&#x0D;\\n&#x0D;\\nOn January 5,...\n",
       "Name: FactualNarrative, Length: 702, dtype: object"
      ]
     },
     "execution_count": 34,
     "metadata": {},
     "output_type": "execute_result"
    }
   ],
   "source": [
    "df_json['FactualNarrative']"
   ]
  }
 ],
 "metadata": {
  "kernelspec": {
   "display_name": "base",
   "language": "python",
   "name": "python3"
  },
  "language_info": {
   "codemirror_mode": {
    "name": "ipython",
    "version": 3
   },
   "file_extension": ".py",
   "mimetype": "text/x-python",
   "name": "python",
   "nbconvert_exporter": "python",
   "pygments_lexer": "ipython3",
   "version": "3.11.7"
  }
 },
 "nbformat": 4,
 "nbformat_minor": 2
}
