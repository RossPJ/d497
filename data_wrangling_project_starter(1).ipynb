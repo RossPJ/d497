{
 "cells": [
  {
   "cell_type": "markdown",
   "metadata": {
    "id": "GNIwe5N7s0e_"
   },
   "source": [
    "# Real-world Data Wrangling"
   ]
  },
  {
   "cell_type": "markdown",
   "metadata": {
    "id": "lDYDkH-Zs7Nn"
   },
   "source": [
    "## 1. Gather data\n",
    "\n"
   ]
  },
  {
   "cell_type": "markdown",
   "metadata": {
    "id": "gi6swhjSYqu2"
   },
   "source": [
    "\n",
    "\n",
    "In this project, I will be examining two datasets related to fatal helicopter accidents from 01/01/2002 to present day. From the data, I would like to understand and visualize which aircraft make and model has had the most fatal crashes and the type of aircraft that has the most fatalities. "
   ]
  },
  {
   "cell_type": "markdown",
   "metadata": {
    "id": "8AQfBAdUypMm"
   },
   "source": [
    "### **1.2.** Gather at least two datasets using two different data gathering methods\n"
   ]
  },
  {
   "cell_type": "code",
   "execution_count": 20,
   "metadata": {},
   "outputs": [],
   "source": [
    "import pandas as pd "
   ]
  },
  {
   "cell_type": "markdown",
   "metadata": {
    "id": "7e6gS0wL1KTu"
   },
   "source": [
    "#### **Dataset 1**\n",
    "\n",
    "Type: CSV File \n",
    "\n",
    "Method: The data was gathered using the \"Downloading files\" method from NTSB.org. The NTSB database was queried and produced a CSV file for download. \n",
    "\n",
    "There are many variables in this dataset. I will pick a few that are the most relevant to this project. \n",
    "\n",
    "Dataset variables:\n",
    "\n",
    "*   Variable 1 NtsbNo: specific NTSB record identification number\n",
    "*   Variable 2 AmatuerBuilt: indicates whether the aircraft was type certificated or not\n",
    "*   Variable 3 Make: this is the manufacturer of the helicopter (e.g  Bell, Boeing, Airbus, Sikorsky)\n",
    "*   Variable 4 Model: this is the specific model of helicopter from the manufacturer (e.g 505, R44, EC120, etc)\n"
   ]
  },
  {
   "cell_type": "code",
   "execution_count": 21,
   "metadata": {
    "id": "Su8E0uLuYkHU"
   },
   "outputs": [
    {
     "data": {
      "text/plain": [
       "Index(['NtsbNo', 'EventType', 'Mkey', 'EventDate', 'City', 'State', 'Country',\n",
       "       'ReportNo', 'N', 'HasSafetyRec', 'ReportType', 'OriginalPublishDate',\n",
       "       'HighestInjuryLevel', 'FatalInjuryCount', 'SeriousInjuryCount',\n",
       "       'MinorInjuryCount', 'ProbableCause', 'EventID', 'Latitude', 'Longitude',\n",
       "       'Make', 'Model', 'AirCraftCategory', 'AirportID', 'AirportName',\n",
       "       'AmateurBuilt', 'NumberOfEngines', 'Scheduled', 'PurposeOfFlight',\n",
       "       'FAR', 'AirCraftDamage', 'WeatherCondition', 'Operator', 'ReportStatus',\n",
       "       'RepGenFlag', 'DocketUrl', 'DocketPublishDate', 'Unnamed: 37'],\n",
       "      dtype='object')"
      ]
     },
     "execution_count": 21,
     "metadata": {},
     "output_type": "execute_result"
    }
   ],
   "source": [
    "#FILL IN 1st data gathering and loading method\n",
    "df_csv = pd.read_csv(\"helicopter_crash_data.csv\")\n",
    "df_csv.columns"
   ]
  },
  {
   "cell_type": "markdown",
   "metadata": {
    "id": "hoUjq1tPzz7P"
   },
   "source": [
    "#### Dataset 2\n",
    "\n",
    "Type: JSON File\n",
    "\n",
    "Method: The data was gathered using the \"Downloading files\" method from NTSB.org. The NTSB database was queried and produced a JSON file for download. \n",
    "\n",
    "There are many variables in this dataset. I will pick a few that are the most relevant to this project. \n",
    "\n",
    "Dataset variables:\n",
    "\n",
    "*   Variable 1 HighestInjuryLevel: fatality for this analysis.\n",
    "*   Variable 2 City: city where accident took place\n",
    "*   Variable 3 State: state where accident took place \n",
    "*   Variable 4 Country: country where accident took place"
   ]
  },
  {
   "cell_type": "code",
   "execution_count": 22,
   "metadata": {
    "id": "6zT0QxRyYmm7"
   },
   "outputs": [
    {
     "data": {
      "text/plain": [
       "Index(['Oid', 'MKey', 'Closed', 'CompletionStatus', 'HasSafetyRec',\n",
       "       'HighestInjury', 'IsStudy', 'Mode', 'NtsbNumber',\n",
       "       'OriginalPublishedDate', 'MostRecentReportType', 'ProbableCause',\n",
       "       'City', 'Country', 'EventDate', 'State', 'Agency', 'BoardLaunch',\n",
       "       'BoardMeetingDate', 'DocketDate', 'EventType', 'Launch', 'ReportDate',\n",
       "       'ReportNum', 'ReportType', 'Vehicles', 'AirportId', 'AirportName',\n",
       "       'AnalysisNarrative', 'FactualNarrative', 'PrelimNarrative',\n",
       "       'FatalInjuryCount', 'MinorInjuryCount', 'SeriousInjuryCount',\n",
       "       'InvestigationClass', 'AccidentSiteCondition', 'Latitude', 'Longitude',\n",
       "       'DocketOriginalPublishDate'],\n",
       "      dtype='object')"
      ]
     },
     "execution_count": 22,
     "metadata": {},
     "output_type": "execute_result"
    }
   ],
   "source": [
    "#FILL IN 2nd data gathering and loading method\n",
    "df_json = pd.read_json(\"helicopter_crash_data.json\")\n",
    "df_json.columns"
   ]
  },
  {
   "cell_type": "markdown",
   "metadata": {
    "id": "QwSWIVmotLgV"
   },
   "source": [
    "## 2. Assess data\n",
    "\n",
    "Assess the data according to data quality and tidiness metrics using the report below.\n",
    "\n",
    "List **two** data quality issues and **two** tidiness issues. Assess each data issue visually **and** programmatically, then briefly describe the issue you find.  **Make sure you include justifications for the methods you use for the assessment.**"
   ]
  },
  {
   "cell_type": "markdown",
   "metadata": {
    "id": "adaK2iPNzVu4"
   },
   "source": [
    "### Quality Issue 1:\n",
    "\n",
    "Uniqueness \n",
    "\n",
    "There are multiple rows in the dataframe df_csv where the Column of \"N\" does not contain a unique value. There are multiple aircraft per cell. "
   ]
  },
  {
   "cell_type": "code",
   "execution_count": 23,
   "metadata": {
    "id": "SpW59kh-zl8d"
   },
   "outputs": [
    {
     "data": {
      "text/plain": [
       "0     OE-XOS, ES-ETR\n",
       "1             N216MH\n",
       "2              N23SD\n",
       "3             N331ES\n",
       "4             N262LH\n",
       "5             N835CS\n",
       "6             N144SG\n",
       "7             N118LG\n",
       "8             D-HSEP\n",
       "9             PK-LUV\n",
       "10            ZS-RAC\n",
       "11            HC-CQY\n",
       "12     N709PS, UNREG\n",
       "13            PR-TIB\n",
       "14            N622LT\n",
       "15            N617GC\n",
       "16            N368EV\n",
       "17             N62CD\n",
       "18            N881KE\n",
       "19            N230AE\n",
       "20            EC-EXE\n",
       "21            N306FW\n",
       "22            N199BD\n",
       "23            VH-ERH\n",
       "24            9N-AJD\n",
       "25            TG-MIC\n",
       "26             N94XA\n",
       "27            N61486\n",
       "28    VH-HQH, VH-HYQ\n",
       "Name: N, dtype: object"
      ]
     },
     "execution_count": 23,
     "metadata": {},
     "output_type": "execute_result"
    }
   ],
   "source": [
    "#FILL IN - Inspecting the dataframe visually\n",
    "#inspecting the dataframe visually with the .head() method because the dataframe is too large to view in this notebook. \n",
    "#The first issue we can see is that there are some rows that have multiple values in some cells - uniqueness issue. (example, column \"N\" has multiple aircraft in the cell)\n",
    "#I would like to drop these rows and focus on accidents only involving one aircraft.\n",
    "#If time permitted, I would normalize the data and create 2 unique rows from the rows where multpiple aircraft are involved. \n",
    "df_csv['N'].head(29)\n"
   ]
  },
  {
   "cell_type": "code",
   "execution_count": 24,
   "metadata": {
    "id": "-qfcocStzsKg"
   },
   "outputs": [
    {
     "data": {
      "text/plain": [
       "N\n",
       "False    686\n",
       "True      16\n",
       "Name: count, dtype: int64"
      ]
     },
     "execution_count": 24,
     "metadata": {},
     "output_type": "execute_result"
    }
   ],
   "source": [
    "#FILL IN - Inspecting the dataframe programmatically\n",
    "\n",
    "#For the column df_csv['N'], we can see that there are 16 rows where there are multiple aircraft involved. \n",
    "df_csv['N'].str.contains(',', na=False).value_counts()\n",
    "\n"
   ]
  },
  {
   "cell_type": "markdown",
   "metadata": {},
   "source": [
    "Issue and justification: \n",
    "\n",
    "Having two aircraft listed in a single cell value—often separated by a comma—can be problematic when analyzing a dataset. This makes it difficult to accurately filter, group, or analyze aircraft-specific data, such as counting incidents by aircraft type or correlating characteristics with outcomes. To ensure clean and meaningful analysis, such entries should be split into separate rows or normalized into a relational structure. Removing the rows where two aircraft are listed will suffice for this project. "
   ]
  },
  {
   "cell_type": "markdown",
   "metadata": {
    "id": "8Be77N4I1AmE"
   },
   "source": [
    "### Quality Issue 2:\n",
    "\n",
    "Completeness\n",
    "\n"
   ]
  },
  {
   "cell_type": "code",
   "execution_count": 25,
   "metadata": {
    "id": "iMhHyiyLM2I3"
   },
   "outputs": [
    {
     "name": "stdout",
     "output_type": "stream",
     "text": [
      "<class 'pandas.core.frame.DataFrame'>\n",
      "RangeIndex: 702 entries, 0 to 701\n",
      "Data columns (total 39 columns):\n",
      " #   Column                     Non-Null Count  Dtype  \n",
      "---  ------                     --------------  -----  \n",
      " 0   Oid                        702 non-null    object \n",
      " 1   MKey                       702 non-null    int64  \n",
      " 2   Closed                     702 non-null    bool   \n",
      " 3   CompletionStatus           702 non-null    object \n",
      " 4   HasSafetyRec               702 non-null    bool   \n",
      " 5   HighestInjury              702 non-null    object \n",
      " 6   IsStudy                    702 non-null    bool   \n",
      " 7   Mode                       702 non-null    object \n",
      " 8   NtsbNumber                 702 non-null    object \n",
      " 9   OriginalPublishedDate      385 non-null    object \n",
      " 10  MostRecentReportType       527 non-null    object \n",
      " 11  ProbableCause              297 non-null    object \n",
      " 12  City                       702 non-null    object \n",
      " 13  Country                    702 non-null    object \n",
      " 14  EventDate                  702 non-null    object \n",
      " 15  State                      353 non-null    object \n",
      " 16  Agency                     702 non-null    object \n",
      " 17  BoardLaunch                702 non-null    bool   \n",
      " 18  BoardMeetingDate           2 non-null      object \n",
      " 19  DocketDate                 1 non-null      object \n",
      " 20  EventType                  702 non-null    object \n",
      " 21  Launch                     520 non-null    object \n",
      " 22  ReportDate                 468 non-null    object \n",
      " 23  ReportNum                  10 non-null     object \n",
      " 24  ReportType                 702 non-null    object \n",
      " 25  Vehicles                   702 non-null    object \n",
      " 26  AirportId                  112 non-null    object \n",
      " 27  AirportName                111 non-null    object \n",
      " 28  AnalysisNarrative          545 non-null    object \n",
      " 29  FactualNarrative           544 non-null    object \n",
      " 30  PrelimNarrative            32 non-null     object \n",
      " 31  FatalInjuryCount           702 non-null    int64  \n",
      " 32  MinorInjuryCount           702 non-null    int64  \n",
      " 33  SeriousInjuryCount         702 non-null    int64  \n",
      " 34  InvestigationClass         0 non-null      float64\n",
      " 35  AccidentSiteCondition      402 non-null    object \n",
      " 36  Latitude                   529 non-null    float64\n",
      " 37  Longitude                  529 non-null    float64\n",
      " 38  DocketOriginalPublishDate  365 non-null    object \n",
      "dtypes: bool(4), float64(3), int64(4), object(28)\n",
      "memory usage: 194.8+ KB\n"
     ]
    }
   ],
   "source": [
    "#FILL IN - Inspecting the dataframe visually\n",
    "df_json.info()"
   ]
  },
  {
   "cell_type": "code",
   "execution_count": 26,
   "metadata": {
    "id": "bnviRCUI-bb7"
   },
   "outputs": [
    {
     "name": "stdout",
     "output_type": "stream",
     "text": [
      "Column[Oid] = 0 null values\n",
      "Column[MKey] = 0 null values\n",
      "Column[Closed] = 0 null values\n",
      "Column[CompletionStatus] = 0 null values\n",
      "Column[HasSafetyRec] = 0 null values\n",
      "Column[HighestInjury] = 0 null values\n",
      "Column[IsStudy] = 0 null values\n",
      "Column[Mode] = 0 null values\n",
      "Column[NtsbNumber] = 0 null values\n",
      "Column[OriginalPublishedDate] = 317 null values\n",
      "Column[MostRecentReportType] = 175 null values\n",
      "Column[ProbableCause] = 405 null values\n",
      "Column[City] = 0 null values\n",
      "Column[Country] = 0 null values\n",
      "Column[EventDate] = 0 null values\n",
      "Column[State] = 349 null values\n",
      "Column[Agency] = 0 null values\n",
      "Column[BoardLaunch] = 0 null values\n",
      "Column[BoardMeetingDate] = 700 null values\n",
      "Column[DocketDate] = 701 null values\n",
      "Column[EventType] = 0 null values\n",
      "Column[Launch] = 182 null values\n",
      "Column[ReportDate] = 234 null values\n",
      "Column[ReportNum] = 692 null values\n",
      "Column[ReportType] = 0 null values\n",
      "Column[Vehicles] = 0 null values\n",
      "Column[AirportId] = 590 null values\n",
      "Column[AirportName] = 591 null values\n",
      "Column[AnalysisNarrative] = 157 null values\n",
      "Column[FactualNarrative] = 158 null values\n",
      "Column[PrelimNarrative] = 670 null values\n",
      "Column[FatalInjuryCount] = 0 null values\n",
      "Column[MinorInjuryCount] = 0 null values\n",
      "Column[SeriousInjuryCount] = 0 null values\n",
      "Column[InvestigationClass] = 702 null values\n",
      "Column[AccidentSiteCondition] = 300 null values\n",
      "Column[Latitude] = 173 null values\n",
      "Column[Longitude] = 173 null values\n",
      "Column[DocketOriginalPublishDate] = 337 null values\n"
     ]
    }
   ],
   "source": [
    "#FILL IN - Inspecting the dataframe programmatically\n",
    "for i in df_json.columns:\n",
    "    print(f\"Column[{i}] = {df_json[i].isna().sum()} null values\")"
   ]
  },
  {
   "cell_type": "markdown",
   "metadata": {},
   "source": [
    "Issue and justification: *FILL IN*\n",
    "\n",
    "In this dataset, columns like OriginalPublishedDate, MostRecentReportType, ProbableCause, and others have significant null values. Addressing these will help ensure that analyses conducted on this data is robust, reliable, and actionable. We could possibly choose to fill in these null values with appropriate substitutes (like averages, medians, or mode) or remove rows with significant null values."
   ]
  },
  {
   "cell_type": "markdown",
   "metadata": {
    "id": "lXhGiYyiwwKN"
   },
   "source": [
    "### Tidiness Issue 1:\n",
    "Clear and Descriptive Column Names.\n",
    " \n",
    "Column names should be clear and descriptive, indicating the variable they represent. This clarity helps users understand the dataset without needing extensive documentation."
   ]
  },
  {
   "cell_type": "code",
   "execution_count": 55,
   "metadata": {
    "id": "fleC5rORI0Xl"
   },
   "outputs": [
    {
     "data": {
      "text/plain": [
       "Index(['NtsbNo', 'EventType', 'Mkey', 'EventDate', 'City', 'State', 'Country',\n",
       "       'ReportNo', 'N', 'HasSafetyRec', 'ReportType', 'OriginalPublishDate',\n",
       "       'HighestInjuryLevel', 'FatalInjuryCount', 'SeriousInjuryCount',\n",
       "       'MinorInjuryCount', 'ProbableCause', 'EventID', 'Latitude', 'Longitude',\n",
       "       'Make', 'Model', 'AirCraftCategory', 'AirportID', 'AirportName',\n",
       "       'AmateurBuilt', 'NumberOfEngines', 'Scheduled', 'PurposeOfFlight',\n",
       "       'FAR', 'AirCraftDamage', 'WeatherCondition', 'Operator', 'ReportStatus',\n",
       "       'RepGenFlag', 'DocketUrl', 'DocketPublishDate', 'Unnamed: 37'],\n",
       "      dtype='object')"
      ]
     },
     "execution_count": 55,
     "metadata": {},
     "output_type": "execute_result"
    }
   ],
   "source": [
    "#FILL IN - Inspecting the dataframe visually\n",
    "df_csv.columns\n",
    "#'NtsbNo', 'Mkey', 'N' and 'Unnamed: 37' are just a few examples of column names needing to be changed or updated for clarity. "
   ]
  },
  {
   "cell_type": "code",
   "execution_count": 69,
   "metadata": {
    "id": "BTuQw7Rbsio4"
   },
   "outputs": [
    {
     "data": {
      "text/html": [
       "<div>\n",
       "<style scoped>\n",
       "    .dataframe tbody tr th:only-of-type {\n",
       "        vertical-align: middle;\n",
       "    }\n",
       "\n",
       "    .dataframe tbody tr th {\n",
       "        vertical-align: top;\n",
       "    }\n",
       "\n",
       "    .dataframe thead th {\n",
       "        text-align: right;\n",
       "    }\n",
       "</style>\n",
       "<table border=\"1\" class=\"dataframe\">\n",
       "  <thead>\n",
       "    <tr style=\"text-align: right;\">\n",
       "      <th></th>\n",
       "      <th>N</th>\n",
       "      <th>Unnamed: 37</th>\n",
       "      <th>Mkey</th>\n",
       "      <th>FAR</th>\n",
       "    </tr>\n",
       "  </thead>\n",
       "  <tbody>\n",
       "    <tr>\n",
       "      <th>0</th>\n",
       "      <td>OE-XOS, ES-ETR</td>\n",
       "      <td>NaN</td>\n",
       "      <td>200170</td>\n",
       "      <td>NUSN,NUSN</td>\n",
       "    </tr>\n",
       "    <tr>\n",
       "      <th>1</th>\n",
       "      <td>N216MH</td>\n",
       "      <td>NaN</td>\n",
       "      <td>199991</td>\n",
       "      <td>091</td>\n",
       "    </tr>\n",
       "    <tr>\n",
       "      <th>2</th>\n",
       "      <td>N23SD</td>\n",
       "      <td>NaN</td>\n",
       "      <td>199881</td>\n",
       "      <td>137</td>\n",
       "    </tr>\n",
       "    <tr>\n",
       "      <th>3</th>\n",
       "      <td>N331ES</td>\n",
       "      <td>NaN</td>\n",
       "      <td>199861</td>\n",
       "      <td>091</td>\n",
       "    </tr>\n",
       "    <tr>\n",
       "      <th>4</th>\n",
       "      <td>N262LH</td>\n",
       "      <td>NaN</td>\n",
       "      <td>199857</td>\n",
       "      <td>091</td>\n",
       "    </tr>\n",
       "    <tr>\n",
       "      <th>5</th>\n",
       "      <td>N835CS</td>\n",
       "      <td>NaN</td>\n",
       "      <td>199825</td>\n",
       "      <td>135</td>\n",
       "    </tr>\n",
       "    <tr>\n",
       "      <th>6</th>\n",
       "      <td>N144SG</td>\n",
       "      <td>NaN</td>\n",
       "      <td>199774</td>\n",
       "      <td>091</td>\n",
       "    </tr>\n",
       "    <tr>\n",
       "      <th>7</th>\n",
       "      <td>N118LG</td>\n",
       "      <td>NaN</td>\n",
       "      <td>199728</td>\n",
       "      <td>091</td>\n",
       "    </tr>\n",
       "    <tr>\n",
       "      <th>8</th>\n",
       "      <td>D-HSEP</td>\n",
       "      <td>NaN</td>\n",
       "      <td>199692</td>\n",
       "      <td>NUSN</td>\n",
       "    </tr>\n",
       "    <tr>\n",
       "      <th>9</th>\n",
       "      <td>PK-LUV</td>\n",
       "      <td>NaN</td>\n",
       "      <td>199675</td>\n",
       "      <td>NUSC</td>\n",
       "    </tr>\n",
       "    <tr>\n",
       "      <th>10</th>\n",
       "      <td>ZS-RAC</td>\n",
       "      <td>NaN</td>\n",
       "      <td>199671</td>\n",
       "      <td>091</td>\n",
       "    </tr>\n",
       "    <tr>\n",
       "      <th>11</th>\n",
       "      <td>HC-CQY</td>\n",
       "      <td>NaN</td>\n",
       "      <td>199645</td>\n",
       "      <td>UNK</td>\n",
       "    </tr>\n",
       "    <tr>\n",
       "      <th>12</th>\n",
       "      <td>N709PS, UNREG</td>\n",
       "      <td>NaN</td>\n",
       "      <td>199620</td>\n",
       "      <td>121,ARMF</td>\n",
       "    </tr>\n",
       "    <tr>\n",
       "      <th>13</th>\n",
       "      <td>PR-TIB</td>\n",
       "      <td>NaN</td>\n",
       "      <td>199771</td>\n",
       "      <td>NUSN</td>\n",
       "    </tr>\n",
       "    <tr>\n",
       "      <th>14</th>\n",
       "      <td>N622LT</td>\n",
       "      <td>NaN</td>\n",
       "      <td>199563</td>\n",
       "      <td>UNK</td>\n",
       "    </tr>\n",
       "    <tr>\n",
       "      <th>15</th>\n",
       "      <td>N617GC</td>\n",
       "      <td>NaN</td>\n",
       "      <td>199430</td>\n",
       "      <td>PUBU</td>\n",
       "    </tr>\n",
       "    <tr>\n",
       "      <th>16</th>\n",
       "      <td>N368EV</td>\n",
       "      <td>NaN</td>\n",
       "      <td>195546</td>\n",
       "      <td>NUSN</td>\n",
       "    </tr>\n",
       "    <tr>\n",
       "      <th>17</th>\n",
       "      <td>N62CD</td>\n",
       "      <td>NaN</td>\n",
       "      <td>195427</td>\n",
       "      <td>091</td>\n",
       "    </tr>\n",
       "    <tr>\n",
       "      <th>18</th>\n",
       "      <td>N881KE</td>\n",
       "      <td>NaN</td>\n",
       "      <td>195349</td>\n",
       "      <td>091</td>\n",
       "    </tr>\n",
       "    <tr>\n",
       "      <th>19</th>\n",
       "      <td>N230AE</td>\n",
       "      <td>NaN</td>\n",
       "      <td>195271</td>\n",
       "      <td>135</td>\n",
       "    </tr>\n",
       "  </tbody>\n",
       "</table>\n",
       "</div>"
      ],
      "text/plain": [
       "                 N  Unnamed: 37    Mkey        FAR\n",
       "0   OE-XOS, ES-ETR          NaN  200170  NUSN,NUSN\n",
       "1           N216MH          NaN  199991        091\n",
       "2            N23SD          NaN  199881        137\n",
       "3           N331ES          NaN  199861        091\n",
       "4           N262LH          NaN  199857        091\n",
       "5           N835CS          NaN  199825        135\n",
       "6           N144SG          NaN  199774        091\n",
       "7           N118LG          NaN  199728        091\n",
       "8           D-HSEP          NaN  199692       NUSN\n",
       "9           PK-LUV          NaN  199675       NUSC\n",
       "10          ZS-RAC          NaN  199671        091\n",
       "11          HC-CQY          NaN  199645        UNK\n",
       "12   N709PS, UNREG          NaN  199620   121,ARMF\n",
       "13          PR-TIB          NaN  199771       NUSN\n",
       "14          N622LT          NaN  199563        UNK\n",
       "15          N617GC          NaN  199430       PUBU\n",
       "16          N368EV          NaN  195546       NUSN\n",
       "17           N62CD          NaN  195427        091\n",
       "18          N881KE          NaN  195349        091\n",
       "19          N230AE          NaN  195271        135"
      ]
     },
     "execution_count": 69,
     "metadata": {},
     "output_type": "execute_result"
    }
   ],
   "source": [
    "#FILL IN - Inspecting the dataframe programmatically\n",
    "df_csv[['N','Unnamed: 37', 'Mkey', 'FAR']].head(20)"
   ]
  },
  {
   "cell_type": "markdown",
   "metadata": {},
   "source": [
    "Issue and justification: *FILL IN*\n",
    "\n",
    "The column names are unclear and likely indicate that they're not properly labeled in the dataset. The column names above could represent a specific attribute related to the aircraft or incident. A more descriptive name is needed based on the context of the data. For example, column \"N\" looks like sometime of registration number for the aircraft. It can be relabeled as \"RegistrationNumber\" or something similar. "
   ]
  },
  {
   "cell_type": "markdown",
   "metadata": {
    "id": "4ffMoRGSwzYj"
   },
   "source": [
    "### Tidiness Issue 2: "
   ]
  },
  {
   "cell_type": "code",
   "execution_count": 29,
   "metadata": {
    "id": "XUpeoqokw5Qt"
   },
   "outputs": [],
   "source": [
    "#FILL IN - Inspecting the dataframe visually"
   ]
  },
  {
   "cell_type": "code",
   "execution_count": 30,
   "metadata": {
    "id": "c8JK4DoXxtFA"
   },
   "outputs": [],
   "source": [
    "#FILL IN - Inspecting the dataframe programmatically"
   ]
  },
  {
   "cell_type": "markdown",
   "metadata": {},
   "source": [
    "Issue and justification: *FILL IN*"
   ]
  },
  {
   "cell_type": "markdown",
   "metadata": {
    "id": "D6gmLnBttpCh"
   },
   "source": [
    "## 3. Clean data\n",
    "Clean the data to solve the 4 issues corresponding to data quality and tidiness found in the assessing step. **Make sure you include justifications for your cleaning decisions.**\n",
    "\n",
    "After the cleaning for each issue, please use **either** the visually or programatical method to validate the cleaning was succesful.\n",
    "\n",
    "At this stage, you are also expected to remove variables that are unnecessary for your analysis and combine your datasets. Depending on your datasets, you may choose to perform variable combination and elimination before or after the cleaning stage. Your dataset must have **at least** 4 variables after combining the data."
   ]
  },
  {
   "cell_type": "code",
   "execution_count": 31,
   "metadata": {},
   "outputs": [],
   "source": [
    "# FILL IN - Make copies of the datasets to ensure the raw dataframes \n",
    "# are not impacted"
   ]
  },
  {
   "cell_type": "markdown",
   "metadata": {
    "id": "FmFhN52Yyn3l"
   },
   "source": [
    "### **Quality Issue 1: FILL IN**"
   ]
  },
  {
   "cell_type": "code",
   "execution_count": 32,
   "metadata": {
    "id": "9UejDWrNMW4a"
   },
   "outputs": [],
   "source": [
    "# FILL IN - Apply the cleaning strategy"
   ]
  },
  {
   "cell_type": "code",
   "execution_count": 33,
   "metadata": {
    "id": "oUBee-LPytkv"
   },
   "outputs": [],
   "source": [
    "# FILL IN - Validate the cleaning was successful"
   ]
  },
  {
   "cell_type": "markdown",
   "metadata": {},
   "source": [
    "Justification: *FILL IN*"
   ]
  },
  {
   "cell_type": "markdown",
   "metadata": {
    "id": "n_DAUbJrymBL"
   },
   "source": [
    "### **Quality Issue 2: FILL IN**"
   ]
  },
  {
   "cell_type": "code",
   "execution_count": 34,
   "metadata": {
    "id": "5Yfb-Yu5MTuE"
   },
   "outputs": [],
   "source": [
    "#FILL IN - Apply the cleaning strategy"
   ]
  },
  {
   "cell_type": "code",
   "execution_count": 35,
   "metadata": {
    "id": "ionB2sRaMUmY"
   },
   "outputs": [],
   "source": [
    "#FILL IN - Validate the cleaning was successful"
   ]
  },
  {
   "cell_type": "markdown",
   "metadata": {},
   "source": [
    "Justification: *FILL IN*"
   ]
  },
  {
   "cell_type": "markdown",
   "metadata": {
    "id": "bIUrrfSNyOPR"
   },
   "source": [
    "### **Tidiness Issue 1: FILL IN**"
   ]
  },
  {
   "cell_type": "code",
   "execution_count": 36,
   "metadata": {
    "id": "fib0zAm333bn"
   },
   "outputs": [],
   "source": [
    "#FILL IN - Apply the cleaning strategy"
   ]
  },
  {
   "cell_type": "code",
   "execution_count": 37,
   "metadata": {
    "id": "yhrnUGY_Nk8B"
   },
   "outputs": [],
   "source": [
    "#FILL IN - Validate the cleaning was successful"
   ]
  },
  {
   "cell_type": "markdown",
   "metadata": {},
   "source": [
    "Justification: *FILL IN*"
   ]
  },
  {
   "cell_type": "markdown",
   "metadata": {
    "id": "o51Bt8kwyTzk"
   },
   "source": [
    "### **Tidiness Issue 2: FILL IN**"
   ]
  },
  {
   "cell_type": "code",
   "execution_count": 38,
   "metadata": {
    "id": "7zW8O5yx4Y9O"
   },
   "outputs": [],
   "source": [
    "#FILL IN - Apply the cleaning strategy"
   ]
  },
  {
   "cell_type": "code",
   "execution_count": 39,
   "metadata": {
    "id": "q6I_Sr7lxXi5"
   },
   "outputs": [],
   "source": [
    "#FILL IN - Validate the cleaning was successful"
   ]
  },
  {
   "cell_type": "markdown",
   "metadata": {},
   "source": [
    "Justification: *FILL IN*"
   ]
  },
  {
   "cell_type": "markdown",
   "metadata": {},
   "source": [
    "### **Remove unnecessary variables and combine datasets**\n",
    "\n",
    "Depending on the datasets, you can also peform the combination before the cleaning steps."
   ]
  },
  {
   "cell_type": "code",
   "execution_count": 40,
   "metadata": {},
   "outputs": [],
   "source": [
    "#FILL IN - Remove unnecessary variables and combine datasets"
   ]
  },
  {
   "cell_type": "markdown",
   "metadata": {
    "id": "F42urHuzttjF"
   },
   "source": [
    "## 4. Update your data store\n",
    "Update your local database/data store with the cleaned data, following best practices for storing your cleaned data:\n",
    "\n",
    "- Must maintain different instances / versions of data (raw and cleaned data)\n",
    "- Must name the dataset files informatively\n",
    "- Ensure both the raw and cleaned data is saved to your database/data store"
   ]
  },
  {
   "cell_type": "code",
   "execution_count": 41,
   "metadata": {
    "id": "V3uay7EJUV_L"
   },
   "outputs": [],
   "source": [
    "#FILL IN - saving data"
   ]
  },
  {
   "cell_type": "markdown",
   "metadata": {
    "id": "cGy_yddGtzhM"
   },
   "source": [
    "## 5. Answer the research question\n",
    "\n",
    "### **5.1:** Define and answer the research question \n",
    "Going back to the problem statement in step 1, use the cleaned data to answer the question you raised. Produce **at least** two visualizations using the cleaned data and explain how they help you answer the question."
   ]
  },
  {
   "cell_type": "markdown",
   "metadata": {
    "id": "gjedE4s4ZkEd"
   },
   "source": [
    "*Research question:* FILL IN from answer to Step 1"
   ]
  },
  {
   "cell_type": "code",
   "execution_count": 42,
   "metadata": {
    "id": "Lkw3rW9kZmOm"
   },
   "outputs": [],
   "source": [
    "#Visual 1 - FILL IN"
   ]
  },
  {
   "cell_type": "markdown",
   "metadata": {},
   "source": [
    "*Answer to research question:* FILL IN"
   ]
  },
  {
   "cell_type": "code",
   "execution_count": 43,
   "metadata": {
    "id": "6fdK_8ZGZm9R"
   },
   "outputs": [],
   "source": [
    "#Visual 2 - FILL IN"
   ]
  },
  {
   "cell_type": "markdown",
   "metadata": {
    "id": "K5RgvMGUZoHn"
   },
   "source": [
    "*Answer to research question:* FILL IN"
   ]
  },
  {
   "cell_type": "markdown",
   "metadata": {
    "id": "0ezWXXZVj-TP"
   },
   "source": [
    "### **5.2:** Reflection\n",
    "In 2-4 sentences, if you had more time to complete the project, what actions would you take? For example, which data quality and structural issues would you look into further, and what research questions would you further explore?"
   ]
  },
  {
   "cell_type": "markdown",
   "metadata": {
    "id": "XB3RBDG5kFe1"
   },
   "source": [
    "*Answer:* FILL IN"
   ]
  }
 ],
 "metadata": {
  "colab": {
   "provenance": []
  },
  "kernelspec": {
   "display_name": "base",
   "language": "python",
   "name": "python3"
  },
  "language_info": {
   "codemirror_mode": {
    "name": "ipython",
    "version": 3
   },
   "file_extension": ".py",
   "mimetype": "text/x-python",
   "name": "python",
   "nbconvert_exporter": "python",
   "pygments_lexer": "ipython3",
   "version": "3.12.4"
  }
 },
 "nbformat": 4,
 "nbformat_minor": 1
}
