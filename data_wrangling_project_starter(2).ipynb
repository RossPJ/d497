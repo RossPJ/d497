{
 "cells": [
  {
   "cell_type": "markdown",
   "metadata": {
    "id": "GNIwe5N7s0e_"
   },
   "source": [
    "# Real-world Data Wrangling"
   ]
  },
  {
   "cell_type": "markdown",
   "metadata": {
    "id": "lDYDkH-Zs7Nn"
   },
   "source": [
    "## 1. Gather data\n",
    "\n"
   ]
  },
  {
   "cell_type": "markdown",
   "metadata": {
    "id": "gi6swhjSYqu2"
   },
   "source": [
    "\n",
    "\n",
    "In this project, I will be examining two datasets related to fatal helicopter accidents from 01/01/2002 to present day. From the data, I would like to understand and visualize which aircraft make and model has had the most fatal crashes and the type of aircraft that has the most fatalities. "
   ]
  },
  {
   "cell_type": "markdown",
   "metadata": {
    "id": "8AQfBAdUypMm"
   },
   "source": [
    "### **1.2.** Gather at least two datasets using two different data gathering methods\n"
   ]
  },
  {
   "cell_type": "code",
   "execution_count": 63,
   "metadata": {},
   "outputs": [],
   "source": [
    "import pandas as pd "
   ]
  },
  {
   "cell_type": "markdown",
   "metadata": {
    "id": "7e6gS0wL1KTu"
   },
   "source": [
    "#### **Dataset 1**\n",
    "\n",
    "Type: CSV File \n",
    "\n",
    "Method: The data was gathered using the \"Downloading files\" method from NTSB.org. The NTSB database was queried and produced a CSV file for download. \n",
    "\n",
    "There are many variables in this dataset. I will pick a few that are the most relevant to this project. \n",
    "\n",
    "Dataset variables:\n",
    "\n",
    "*   Variable 1 NtsbNo: specific NTSB record identification number\n",
    "*   Variable 2 AmatuerBuilt: indicates whether the aircraft was type certificated or not\n",
    "*   Variable 3 Make: this is the manufacturer of the helicopter (e.g  Bell, Boeing, Airbus, Sikorsky)\n",
    "*   Variable 4 Model: this is the specific model of helicopter from the manufacturer (e.g 505, R44, EC120, etc)\n"
   ]
  },
  {
   "cell_type": "code",
   "execution_count": 64,
   "metadata": {
    "id": "Su8E0uLuYkHU"
   },
   "outputs": [
    {
     "data": {
      "text/plain": [
       "Index(['NtsbNo', 'EventType', 'Mkey', 'EventDate', 'City', 'State', 'Country',\n",
       "       'ReportNo', 'N', 'HasSafetyRec', 'ReportType', 'OriginalPublishDate',\n",
       "       'HighestInjuryLevel', 'FatalInjuryCount', 'SeriousInjuryCount',\n",
       "       'MinorInjuryCount', 'ProbableCause', 'EventID', 'Latitude', 'Longitude',\n",
       "       'Make', 'Model', 'AirCraftCategory', 'AirportID', 'AirportName',\n",
       "       'AmateurBuilt', 'NumberOfEngines', 'Scheduled', 'PurposeOfFlight',\n",
       "       'FAR', 'AirCraftDamage', 'WeatherCondition', 'Operator', 'ReportStatus',\n",
       "       'RepGenFlag', 'DocketUrl', 'DocketPublishDate', 'Unnamed: 37'],\n",
       "      dtype='object')"
      ]
     },
     "execution_count": 64,
     "metadata": {},
     "output_type": "execute_result"
    }
   ],
   "source": [
    "#FILL IN 1st data gathering and loading method\n",
    "df_csv = pd.read_csv(\"helicopter_crash_data.csv\")\n",
    "df_csv.columns"
   ]
  },
  {
   "cell_type": "markdown",
   "metadata": {
    "id": "hoUjq1tPzz7P"
   },
   "source": [
    "#### Dataset 2\n",
    "\n",
    "Type: JSON File\n",
    "\n",
    "Method: The data was gathered using the \"Downloading files\" method from NTSB.org. The NTSB database was queried and produced a JSON file for download. \n",
    "\n",
    "There are many variables in this dataset. I will pick a few that are the most relevant to this project. \n",
    "\n",
    "Dataset variables:\n",
    "\n",
    "*   Variable 1 HighestInjuryLevel: fatality for this analysis.\n",
    "*   Variable 2 City: city where accident took place\n",
    "*   Variable 3 State: state where accident took place \n",
    "*   Variable 4 Country: country where accident took place"
   ]
  },
  {
   "cell_type": "code",
   "execution_count": 65,
   "metadata": {
    "id": "6zT0QxRyYmm7"
   },
   "outputs": [
    {
     "data": {
      "text/plain": [
       "Index(['Oid', 'MKey', 'Closed', 'CompletionStatus', 'HasSafetyRec',\n",
       "       'HighestInjury', 'IsStudy', 'Mode', 'NtsbNumber',\n",
       "       'OriginalPublishedDate', 'MostRecentReportType', 'ProbableCause',\n",
       "       'City', 'Country', 'EventDate', 'State', 'Agency', 'BoardLaunch',\n",
       "       'BoardMeetingDate', 'DocketDate', 'EventType', 'Launch', 'ReportDate',\n",
       "       'ReportNum', 'ReportType', 'Vehicles', 'AirportId', 'AirportName',\n",
       "       'AnalysisNarrative', 'FactualNarrative', 'PrelimNarrative',\n",
       "       'FatalInjuryCount', 'MinorInjuryCount', 'SeriousInjuryCount',\n",
       "       'InvestigationClass', 'AccidentSiteCondition', 'Latitude', 'Longitude',\n",
       "       'DocketOriginalPublishDate'],\n",
       "      dtype='object')"
      ]
     },
     "execution_count": 65,
     "metadata": {},
     "output_type": "execute_result"
    }
   ],
   "source": [
    "#FILL IN 2nd data gathering and loading method\n",
    "df_json = pd.read_json(\"helicopter_crash_data.json\")\n",
    "df_json.columns"
   ]
  },
  {
   "cell_type": "markdown",
   "metadata": {
    "id": "QwSWIVmotLgV"
   },
   "source": [
    "## 2. Assess data\n",
    "\n",
    "Assess the data according to data quality and tidiness metrics using the report below.\n",
    "\n",
    "List **two** data quality issues and **two** tidiness issues. Assess each data issue visually **and** programmatically, then briefly describe the issue you find.  **Make sure you include justifications for the methods you use for the assessment.**"
   ]
  },
  {
   "cell_type": "markdown",
   "metadata": {
    "id": "adaK2iPNzVu4"
   },
   "source": [
    "### Quality Issue 1:\n",
    "\n",
    "Uniqueness \n",
    "\n",
    "There are multiple rows in the dataframe df_csv where the Column of \"N\" does not contain a unique value. There are multiple aircraft per cell. "
   ]
  },
  {
   "cell_type": "code",
   "execution_count": 66,
   "metadata": {
    "id": "SpW59kh-zl8d"
   },
   "outputs": [
    {
     "data": {
      "text/plain": [
       "0     OE-XOS, ES-ETR\n",
       "1             N216MH\n",
       "2              N23SD\n",
       "3             N331ES\n",
       "4             N262LH\n",
       "5             N835CS\n",
       "6             N144SG\n",
       "7             N118LG\n",
       "8             D-HSEP\n",
       "9             PK-LUV\n",
       "10            ZS-RAC\n",
       "11            HC-CQY\n",
       "12     N709PS, UNREG\n",
       "13            PR-TIB\n",
       "14            N622LT\n",
       "15            N617GC\n",
       "16            N368EV\n",
       "17             N62CD\n",
       "18            N881KE\n",
       "19            N230AE\n",
       "20            EC-EXE\n",
       "21            N306FW\n",
       "22            N199BD\n",
       "23            VH-ERH\n",
       "24            9N-AJD\n",
       "25            TG-MIC\n",
       "26             N94XA\n",
       "27            N61486\n",
       "28    VH-HQH, VH-HYQ\n",
       "Name: N, dtype: object"
      ]
     },
     "execution_count": 66,
     "metadata": {},
     "output_type": "execute_result"
    }
   ],
   "source": [
    "#FILL IN - Inspecting the dataframe visually\n",
    "#inspecting the dataframe visually with the .head() method because the dataframe is too large to view in this notebook. \n",
    "#The first issue we can see is that there are some rows that have multiple values in some cells - uniqueness issue. (example, column \"N\" has multiple aircraft in the cell)\n",
    "#I would like to drop these rows and focus on accidents only involving one aircraft.\n",
    "#If time permitted, I would normalize the data and create 2 unique rows from the rows where multpiple aircraft are involved. \n",
    "df_csv['N'].head(29)\n"
   ]
  },
  {
   "cell_type": "code",
   "execution_count": 67,
   "metadata": {
    "id": "-qfcocStzsKg"
   },
   "outputs": [
    {
     "data": {
      "text/plain": [
       "N\n",
       "False    686\n",
       "True      16\n",
       "Name: count, dtype: int64"
      ]
     },
     "execution_count": 67,
     "metadata": {},
     "output_type": "execute_result"
    }
   ],
   "source": [
    "#FILL IN - Inspecting the dataframe programmatically\n",
    "\n",
    "#For the column df_csv['N'], we can see that there are 16 rows where there are multiple aircraft involved. \n",
    "df_csv['N'].str.contains(',', na=False).value_counts()\n",
    "\n"
   ]
  },
  {
   "cell_type": "markdown",
   "metadata": {},
   "source": [
    "Issue and justification: \n",
    "\n",
    "Having two aircraft listed in a single cell value—often separated by a comma—can be problematic when analyzing a dataset. This makes it difficult to accurately filter, group, or analyze aircraft-specific data, such as counting incidents by aircraft type or correlating characteristics with outcomes. To ensure clean and meaningful analysis, such entries should be split into separate rows or normalized into a relational structure. Removing the rows where two aircraft are listed will suffice for this project. "
   ]
  },
  {
   "cell_type": "markdown",
   "metadata": {
    "id": "8Be77N4I1AmE"
   },
   "source": [
    "### Quality Issue 2:\n",
    "\n",
    "Completeness\n",
    "\n"
   ]
  },
  {
   "cell_type": "code",
   "execution_count": 68,
   "metadata": {
    "id": "iMhHyiyLM2I3"
   },
   "outputs": [
    {
     "name": "stdout",
     "output_type": "stream",
     "text": [
      "<class 'pandas.core.frame.DataFrame'>\n",
      "RangeIndex: 702 entries, 0 to 701\n",
      "Data columns (total 39 columns):\n",
      " #   Column                     Non-Null Count  Dtype  \n",
      "---  ------                     --------------  -----  \n",
      " 0   Oid                        702 non-null    object \n",
      " 1   MKey                       702 non-null    int64  \n",
      " 2   Closed                     702 non-null    bool   \n",
      " 3   CompletionStatus           702 non-null    object \n",
      " 4   HasSafetyRec               702 non-null    bool   \n",
      " 5   HighestInjury              702 non-null    object \n",
      " 6   IsStudy                    702 non-null    bool   \n",
      " 7   Mode                       702 non-null    object \n",
      " 8   NtsbNumber                 702 non-null    object \n",
      " 9   OriginalPublishedDate      385 non-null    object \n",
      " 10  MostRecentReportType       527 non-null    object \n",
      " 11  ProbableCause              297 non-null    object \n",
      " 12  City                       702 non-null    object \n",
      " 13  Country                    702 non-null    object \n",
      " 14  EventDate                  702 non-null    object \n",
      " 15  State                      353 non-null    object \n",
      " 16  Agency                     702 non-null    object \n",
      " 17  BoardLaunch                702 non-null    bool   \n",
      " 18  BoardMeetingDate           2 non-null      object \n",
      " 19  DocketDate                 1 non-null      object \n",
      " 20  EventType                  702 non-null    object \n",
      " 21  Launch                     520 non-null    object \n",
      " 22  ReportDate                 468 non-null    object \n",
      " 23  ReportNum                  10 non-null     object \n",
      " 24  ReportType                 702 non-null    object \n",
      " 25  Vehicles                   702 non-null    object \n",
      " 26  AirportId                  112 non-null    object \n",
      " 27  AirportName                111 non-null    object \n",
      " 28  AnalysisNarrative          545 non-null    object \n",
      " 29  FactualNarrative           544 non-null    object \n",
      " 30  PrelimNarrative            32 non-null     object \n",
      " 31  FatalInjuryCount           702 non-null    int64  \n",
      " 32  MinorInjuryCount           702 non-null    int64  \n",
      " 33  SeriousInjuryCount         702 non-null    int64  \n",
      " 34  InvestigationClass         0 non-null      float64\n",
      " 35  AccidentSiteCondition      402 non-null    object \n",
      " 36  Latitude                   529 non-null    float64\n",
      " 37  Longitude                  529 non-null    float64\n",
      " 38  DocketOriginalPublishDate  365 non-null    object \n",
      "dtypes: bool(4), float64(3), int64(4), object(28)\n",
      "memory usage: 194.8+ KB\n"
     ]
    }
   ],
   "source": [
    "#FILL IN - Inspecting the dataframe visually\n",
    "df_json.info()"
   ]
  },
  {
   "cell_type": "code",
   "execution_count": 69,
   "metadata": {
    "id": "bnviRCUI-bb7"
   },
   "outputs": [
    {
     "name": "stdout",
     "output_type": "stream",
     "text": [
      "Column[Oid] = 0 null values\n",
      "Column[MKey] = 0 null values\n",
      "Column[Closed] = 0 null values\n",
      "Column[CompletionStatus] = 0 null values\n",
      "Column[HasSafetyRec] = 0 null values\n",
      "Column[HighestInjury] = 0 null values\n",
      "Column[IsStudy] = 0 null values\n",
      "Column[Mode] = 0 null values\n",
      "Column[NtsbNumber] = 0 null values\n",
      "Column[OriginalPublishedDate] = 317 null values\n",
      "Column[MostRecentReportType] = 175 null values\n",
      "Column[ProbableCause] = 405 null values\n",
      "Column[City] = 0 null values\n",
      "Column[Country] = 0 null values\n",
      "Column[EventDate] = 0 null values\n",
      "Column[State] = 349 null values\n",
      "Column[Agency] = 0 null values\n",
      "Column[BoardLaunch] = 0 null values\n",
      "Column[BoardMeetingDate] = 700 null values\n",
      "Column[DocketDate] = 701 null values\n",
      "Column[EventType] = 0 null values\n",
      "Column[Launch] = 182 null values\n",
      "Column[ReportDate] = 234 null values\n",
      "Column[ReportNum] = 692 null values\n",
      "Column[ReportType] = 0 null values\n",
      "Column[Vehicles] = 0 null values\n",
      "Column[AirportId] = 590 null values\n",
      "Column[AirportName] = 591 null values\n",
      "Column[AnalysisNarrative] = 157 null values\n",
      "Column[FactualNarrative] = 158 null values\n",
      "Column[PrelimNarrative] = 670 null values\n",
      "Column[FatalInjuryCount] = 0 null values\n",
      "Column[MinorInjuryCount] = 0 null values\n",
      "Column[SeriousInjuryCount] = 0 null values\n",
      "Column[InvestigationClass] = 702 null values\n",
      "Column[AccidentSiteCondition] = 300 null values\n",
      "Column[Latitude] = 173 null values\n",
      "Column[Longitude] = 173 null values\n",
      "Column[DocketOriginalPublishDate] = 337 null values\n"
     ]
    }
   ],
   "source": [
    "#FILL IN - Inspecting the dataframe programmatically\n",
    "for i in df_json.columns:\n",
    "    print(f\"Column[{i}] = {df_json[i].isna().sum()} null values\")"
   ]
  },
  {
   "cell_type": "markdown",
   "metadata": {},
   "source": [
    "Issue and justification: *FILL IN*\n",
    "\n",
    "In this dataset, columns like OriginalPublishedDate, MostRecentReportType, ProbableCause, and others have significant null values. Addressing these will help ensure that analyses conducted on this data is robust, reliable, and actionable. We could possibly choose to fill in these null values with appropriate substitutes (like averages, medians, or mode) or remove rows with significant null values."
   ]
  },
  {
   "cell_type": "markdown",
   "metadata": {
    "id": "lXhGiYyiwwKN"
   },
   "source": [
    "### Tidiness Issue 1:\n",
    "Clear and Descriptive Column Names.\n",
    " \n",
    "Column names should be clear and descriptive, indicating the variable they represent. This clarity helps users understand the dataset without needing extensive documentation."
   ]
  },
  {
   "cell_type": "code",
   "execution_count": 70,
   "metadata": {
    "id": "fleC5rORI0Xl"
   },
   "outputs": [
    {
     "data": {
      "text/plain": [
       "Index(['NtsbNo', 'EventType', 'Mkey', 'EventDate', 'City', 'State', 'Country',\n",
       "       'ReportNo', 'N', 'HasSafetyRec', 'ReportType', 'OriginalPublishDate',\n",
       "       'HighestInjuryLevel', 'FatalInjuryCount', 'SeriousInjuryCount',\n",
       "       'MinorInjuryCount', 'ProbableCause', 'EventID', 'Latitude', 'Longitude',\n",
       "       'Make', 'Model', 'AirCraftCategory', 'AirportID', 'AirportName',\n",
       "       'AmateurBuilt', 'NumberOfEngines', 'Scheduled', 'PurposeOfFlight',\n",
       "       'FAR', 'AirCraftDamage', 'WeatherCondition', 'Operator', 'ReportStatus',\n",
       "       'RepGenFlag', 'DocketUrl', 'DocketPublishDate', 'Unnamed: 37'],\n",
       "      dtype='object')"
      ]
     },
     "execution_count": 70,
     "metadata": {},
     "output_type": "execute_result"
    }
   ],
   "source": [
    "#FILL IN - Inspecting the dataframe visually\n",
    "df_csv.columns\n",
    "#'NtsbNo', 'Mkey', 'N' and 'Unnamed: 37' are just a few examples of column names needing to be changed or updated for clarity. "
   ]
  },
  {
   "cell_type": "code",
   "execution_count": 71,
   "metadata": {
    "id": "BTuQw7Rbsio4"
   },
   "outputs": [
    {
     "data": {
      "text/html": [
       "<div>\n",
       "<style scoped>\n",
       "    .dataframe tbody tr th:only-of-type {\n",
       "        vertical-align: middle;\n",
       "    }\n",
       "\n",
       "    .dataframe tbody tr th {\n",
       "        vertical-align: top;\n",
       "    }\n",
       "\n",
       "    .dataframe thead th {\n",
       "        text-align: right;\n",
       "    }\n",
       "</style>\n",
       "<table border=\"1\" class=\"dataframe\">\n",
       "  <thead>\n",
       "    <tr style=\"text-align: right;\">\n",
       "      <th></th>\n",
       "      <th>N</th>\n",
       "      <th>Unnamed: 37</th>\n",
       "      <th>Mkey</th>\n",
       "      <th>FAR</th>\n",
       "    </tr>\n",
       "  </thead>\n",
       "  <tbody>\n",
       "    <tr>\n",
       "      <th>0</th>\n",
       "      <td>OE-XOS, ES-ETR</td>\n",
       "      <td>NaN</td>\n",
       "      <td>200170</td>\n",
       "      <td>NUSN,NUSN</td>\n",
       "    </tr>\n",
       "    <tr>\n",
       "      <th>1</th>\n",
       "      <td>N216MH</td>\n",
       "      <td>NaN</td>\n",
       "      <td>199991</td>\n",
       "      <td>091</td>\n",
       "    </tr>\n",
       "    <tr>\n",
       "      <th>2</th>\n",
       "      <td>N23SD</td>\n",
       "      <td>NaN</td>\n",
       "      <td>199881</td>\n",
       "      <td>137</td>\n",
       "    </tr>\n",
       "    <tr>\n",
       "      <th>3</th>\n",
       "      <td>N331ES</td>\n",
       "      <td>NaN</td>\n",
       "      <td>199861</td>\n",
       "      <td>091</td>\n",
       "    </tr>\n",
       "    <tr>\n",
       "      <th>4</th>\n",
       "      <td>N262LH</td>\n",
       "      <td>NaN</td>\n",
       "      <td>199857</td>\n",
       "      <td>091</td>\n",
       "    </tr>\n",
       "    <tr>\n",
       "      <th>5</th>\n",
       "      <td>N835CS</td>\n",
       "      <td>NaN</td>\n",
       "      <td>199825</td>\n",
       "      <td>135</td>\n",
       "    </tr>\n",
       "    <tr>\n",
       "      <th>6</th>\n",
       "      <td>N144SG</td>\n",
       "      <td>NaN</td>\n",
       "      <td>199774</td>\n",
       "      <td>091</td>\n",
       "    </tr>\n",
       "    <tr>\n",
       "      <th>7</th>\n",
       "      <td>N118LG</td>\n",
       "      <td>NaN</td>\n",
       "      <td>199728</td>\n",
       "      <td>091</td>\n",
       "    </tr>\n",
       "    <tr>\n",
       "      <th>8</th>\n",
       "      <td>D-HSEP</td>\n",
       "      <td>NaN</td>\n",
       "      <td>199692</td>\n",
       "      <td>NUSN</td>\n",
       "    </tr>\n",
       "    <tr>\n",
       "      <th>9</th>\n",
       "      <td>PK-LUV</td>\n",
       "      <td>NaN</td>\n",
       "      <td>199675</td>\n",
       "      <td>NUSC</td>\n",
       "    </tr>\n",
       "    <tr>\n",
       "      <th>10</th>\n",
       "      <td>ZS-RAC</td>\n",
       "      <td>NaN</td>\n",
       "      <td>199671</td>\n",
       "      <td>091</td>\n",
       "    </tr>\n",
       "    <tr>\n",
       "      <th>11</th>\n",
       "      <td>HC-CQY</td>\n",
       "      <td>NaN</td>\n",
       "      <td>199645</td>\n",
       "      <td>UNK</td>\n",
       "    </tr>\n",
       "    <tr>\n",
       "      <th>12</th>\n",
       "      <td>N709PS, UNREG</td>\n",
       "      <td>NaN</td>\n",
       "      <td>199620</td>\n",
       "      <td>121,ARMF</td>\n",
       "    </tr>\n",
       "    <tr>\n",
       "      <th>13</th>\n",
       "      <td>PR-TIB</td>\n",
       "      <td>NaN</td>\n",
       "      <td>199771</td>\n",
       "      <td>NUSN</td>\n",
       "    </tr>\n",
       "    <tr>\n",
       "      <th>14</th>\n",
       "      <td>N622LT</td>\n",
       "      <td>NaN</td>\n",
       "      <td>199563</td>\n",
       "      <td>UNK</td>\n",
       "    </tr>\n",
       "    <tr>\n",
       "      <th>15</th>\n",
       "      <td>N617GC</td>\n",
       "      <td>NaN</td>\n",
       "      <td>199430</td>\n",
       "      <td>PUBU</td>\n",
       "    </tr>\n",
       "    <tr>\n",
       "      <th>16</th>\n",
       "      <td>N368EV</td>\n",
       "      <td>NaN</td>\n",
       "      <td>195546</td>\n",
       "      <td>NUSN</td>\n",
       "    </tr>\n",
       "    <tr>\n",
       "      <th>17</th>\n",
       "      <td>N62CD</td>\n",
       "      <td>NaN</td>\n",
       "      <td>195427</td>\n",
       "      <td>091</td>\n",
       "    </tr>\n",
       "    <tr>\n",
       "      <th>18</th>\n",
       "      <td>N881KE</td>\n",
       "      <td>NaN</td>\n",
       "      <td>195349</td>\n",
       "      <td>091</td>\n",
       "    </tr>\n",
       "    <tr>\n",
       "      <th>19</th>\n",
       "      <td>N230AE</td>\n",
       "      <td>NaN</td>\n",
       "      <td>195271</td>\n",
       "      <td>135</td>\n",
       "    </tr>\n",
       "  </tbody>\n",
       "</table>\n",
       "</div>"
      ],
      "text/plain": [
       "                 N  Unnamed: 37    Mkey        FAR\n",
       "0   OE-XOS, ES-ETR          NaN  200170  NUSN,NUSN\n",
       "1           N216MH          NaN  199991        091\n",
       "2            N23SD          NaN  199881        137\n",
       "3           N331ES          NaN  199861        091\n",
       "4           N262LH          NaN  199857        091\n",
       "5           N835CS          NaN  199825        135\n",
       "6           N144SG          NaN  199774        091\n",
       "7           N118LG          NaN  199728        091\n",
       "8           D-HSEP          NaN  199692       NUSN\n",
       "9           PK-LUV          NaN  199675       NUSC\n",
       "10          ZS-RAC          NaN  199671        091\n",
       "11          HC-CQY          NaN  199645        UNK\n",
       "12   N709PS, UNREG          NaN  199620   121,ARMF\n",
       "13          PR-TIB          NaN  199771       NUSN\n",
       "14          N622LT          NaN  199563        UNK\n",
       "15          N617GC          NaN  199430       PUBU\n",
       "16          N368EV          NaN  195546       NUSN\n",
       "17           N62CD          NaN  195427        091\n",
       "18          N881KE          NaN  195349        091\n",
       "19          N230AE          NaN  195271        135"
      ]
     },
     "execution_count": 71,
     "metadata": {},
     "output_type": "execute_result"
    }
   ],
   "source": [
    "#FILL IN - Inspecting the dataframe programmatically\n",
    "df_csv[['N','Unnamed: 37', 'Mkey', 'FAR']].head(20)"
   ]
  },
  {
   "cell_type": "markdown",
   "metadata": {},
   "source": [
    "Issue and justification: *FILL IN*\n",
    "\n",
    "The column names are unclear and likely indicate that they're not properly labeled in the dataset. The column names above could represent a specific attribute related to the aircraft or incident. A more descriptive name is needed based on the context of the data. For example, column \"N\" looks like sometime of registration number for the aircraft. It can be relabeled as \"RegistrationNumber\" or something similar. "
   ]
  },
  {
   "cell_type": "markdown",
   "metadata": {
    "id": "4ffMoRGSwzYj"
   },
   "source": [
    "### Tidiness Issue 2: \n",
    "No Redundant Data.\n",
    "\n",
    "Tidy data should avoid redundancy, meaning that the same information should not be repeated unnecessarily across the dataset. This helps reduce the size of the dataset and minimizes the risk of inconsistencies."
   ]
  },
  {
   "cell_type": "code",
   "execution_count": 72,
   "metadata": {
    "id": "XUpeoqokw5Qt"
   },
   "outputs": [
    {
     "data": {
      "text/plain": [
       "Index(['Oid', 'MKey', 'Closed', 'CompletionStatus', 'HasSafetyRec',\n",
       "       'HighestInjury', 'IsStudy', 'Mode', 'NtsbNumber',\n",
       "       'OriginalPublishedDate', 'MostRecentReportType', 'ProbableCause',\n",
       "       'City', 'Country', 'EventDate', 'State', 'Agency', 'BoardLaunch',\n",
       "       'BoardMeetingDate', 'DocketDate', 'EventType', 'Launch', 'ReportDate',\n",
       "       'ReportNum', 'ReportType', 'Vehicles', 'AirportId', 'AirportName',\n",
       "       'AnalysisNarrative', 'FactualNarrative', 'PrelimNarrative',\n",
       "       'FatalInjuryCount', 'MinorInjuryCount', 'SeriousInjuryCount',\n",
       "       'InvestigationClass', 'AccidentSiteCondition', 'Latitude', 'Longitude',\n",
       "       'DocketOriginalPublishDate'],\n",
       "      dtype='object')"
      ]
     },
     "execution_count": 72,
     "metadata": {},
     "output_type": "execute_result"
    }
   ],
   "source": [
    "#FILL IN - Inspecting the dataframe visually\n",
    "df_json.columns\n"
   ]
  },
  {
   "cell_type": "code",
   "execution_count": null,
   "metadata": {},
   "outputs": [],
   "source": []
  },
  {
   "cell_type": "code",
   "execution_count": 73,
   "metadata": {
    "id": "c8JK4DoXxtFA"
   },
   "outputs": [],
   "source": [
    "#FILL IN - Inspecting the dataframe programmatically"
   ]
  },
  {
   "cell_type": "markdown",
   "metadata": {},
   "source": [
    "Issue and justification: *FILL IN*"
   ]
  },
  {
   "cell_type": "markdown",
   "metadata": {
    "id": "D6gmLnBttpCh"
   },
   "source": [
    "## 3. Clean data\n",
    "Clean the data to solve the 4 issues corresponding to data quality and tidiness found in the assessing step. **Make sure you include justifications for your cleaning decisions.**\n",
    "\n",
    "After the cleaning for each issue, please use **either** the visually or programatical method to validate the cleaning was succesful.\n",
    "\n",
    "At this stage, you are also expected to remove variables that are unnecessary for your analysis and combine your datasets. Depending on your datasets, you may choose to perform variable combination and elimination before or after the cleaning stage. Your dataset must have **at least** 4 variables after combining the data."
   ]
  },
  {
   "cell_type": "code",
   "execution_count": 74,
   "metadata": {},
   "outputs": [],
   "source": [
    "# FILL IN - Make copies of the datasets to ensure the raw dataframes \n",
    "# are not impacted\n",
    "df_csv_clean = df_csv.copy()\n",
    "df_json_clean = df_json.copy()"
   ]
  },
  {
   "cell_type": "markdown",
   "metadata": {
    "id": "FmFhN52Yyn3l"
   },
   "source": [
    "### **Quality Issue 1: Uniqueness**"
   ]
  },
  {
   "cell_type": "code",
   "execution_count": 75,
   "metadata": {
    "id": "9UejDWrNMW4a"
   },
   "outputs": [],
   "source": [
    "# FILL IN - Apply the cleaning strategy\n",
    "# Remove rows with multiple aircraft in the 'N' column\n",
    "df_csv_clean = df_csv_clean[~df_csv_clean['N'].str.contains(',', na=False)]"
   ]
  },
  {
   "cell_type": "code",
   "execution_count": 76,
   "metadata": {
    "id": "oUBee-LPytkv"
   },
   "outputs": [
    {
     "data": {
      "text/plain": [
       "N\n",
       "False    686\n",
       "Name: count, dtype: int64"
      ]
     },
     "execution_count": 76,
     "metadata": {},
     "output_type": "execute_result"
    }
   ],
   "source": [
    "# FILL IN - Validate the cleaning was successful\n",
    "# Check for remaining duplicates in the 'N' column\n",
    "df_csv_clean['N'].str.contains(',', na=False).value_counts()"
   ]
  },
  {
   "cell_type": "code",
   "execution_count": 77,
   "metadata": {},
   "outputs": [
    {
     "data": {
      "text/plain": [
       "1      N216MH\n",
       "2       N23SD\n",
       "3      N331ES\n",
       "4      N262LH\n",
       "5      N835CS\n",
       "        ...  \n",
       "697    N127TS\n",
       "698    N157BC\n",
       "699    N7535F\n",
       "700    LN-OCV\n",
       "701    N5016U\n",
       "Name: N, Length: 686, dtype: object"
      ]
     },
     "execution_count": 77,
     "metadata": {},
     "output_type": "execute_result"
    }
   ],
   "source": [
    "df_csv_clean['N']"
   ]
  },
  {
   "cell_type": "markdown",
   "metadata": {},
   "source": [
    "Justification: \n",
    "\n",
    "By removing rows with multiple aircraft, we ensure that each entry corresponds to a single incident, allowing for more accurate analysis."
   ]
  },
  {
   "cell_type": "markdown",
   "metadata": {
    "id": "n_DAUbJrymBL"
   },
   "source": [
    "### **Quality Issue 2: Completeness**"
   ]
  },
  {
   "cell_type": "code",
   "execution_count": 91,
   "metadata": {},
   "outputs": [
    {
     "name": "stdout",
     "output_type": "stream",
     "text": [
      "<class 'pandas.core.frame.DataFrame'>\n",
      "RangeIndex: 702 entries, 0 to 701\n",
      "Data columns (total 39 columns):\n",
      " #   Column                     Non-Null Count  Dtype  \n",
      "---  ------                     --------------  -----  \n",
      " 0   Oid                        702 non-null    object \n",
      " 1   MKey                       702 non-null    int64  \n",
      " 2   Closed                     702 non-null    bool   \n",
      " 3   CompletionStatus           702 non-null    object \n",
      " 4   HasSafetyRec               702 non-null    bool   \n",
      " 5   HighestInjury              702 non-null    object \n",
      " 6   IsStudy                    702 non-null    bool   \n",
      " 7   Mode                       702 non-null    object \n",
      " 8   NtsbNumber                 702 non-null    object \n",
      " 9   OriginalPublishedDate      385 non-null    object \n",
      " 10  MostRecentReportType       527 non-null    object \n",
      " 11  ProbableCause              297 non-null    object \n",
      " 12  City                       702 non-null    object \n",
      " 13  Country                    702 non-null    object \n",
      " 14  EventDate                  702 non-null    object \n",
      " 15  State                      353 non-null    object \n",
      " 16  Agency                     702 non-null    object \n",
      " 17  BoardLaunch                702 non-null    bool   \n",
      " 18  BoardMeetingDate           2 non-null      object \n",
      " 19  DocketDate                 1 non-null      object \n",
      " 20  EventType                  702 non-null    object \n",
      " 21  Launch                     520 non-null    object \n",
      " 22  ReportDate                 468 non-null    object \n",
      " 23  ReportNum                  10 non-null     object \n",
      " 24  ReportType                 702 non-null    object \n",
      " 25  Vehicles                   702 non-null    object \n",
      " 26  AirportId                  112 non-null    object \n",
      " 27  AirportName                111 non-null    object \n",
      " 28  AnalysisNarrative          545 non-null    object \n",
      " 29  FactualNarrative           544 non-null    object \n",
      " 30  PrelimNarrative            32 non-null     object \n",
      " 31  FatalInjuryCount           702 non-null    int64  \n",
      " 32  MinorInjuryCount           702 non-null    int64  \n",
      " 33  SeriousInjuryCount         702 non-null    int64  \n",
      " 34  InvestigationClass         0 non-null      float64\n",
      " 35  AccidentSiteCondition      402 non-null    object \n",
      " 36  Latitude                   529 non-null    float64\n",
      " 37  Longitude                  529 non-null    float64\n",
      " 38  DocketOriginalPublishDate  365 non-null    object \n",
      "dtypes: bool(4), float64(3), int64(4), object(28)\n",
      "memory usage: 194.8+ KB\n"
     ]
    }
   ],
   "source": [
    "df_json.info()"
   ]
  },
  {
   "cell_type": "code",
   "execution_count": 90,
   "metadata": {
    "id": "5Yfb-Yu5MTuE"
   },
   "outputs": [],
   "source": [
    "#FILL IN - Apply the cleaning strategy\n",
    "#Drop rows with significant null values in critical columns\n",
    "df_json_clean = df_json_clean.dropna(subset=['HighestInjury', 'City', 'State', 'Country'])\n"
   ]
  },
  {
   "cell_type": "code",
   "execution_count": 79,
   "metadata": {},
   "outputs": [
    {
     "data": {
      "text/html": [
       "<div>\n",
       "<style scoped>\n",
       "    .dataframe tbody tr th:only-of-type {\n",
       "        vertical-align: middle;\n",
       "    }\n",
       "\n",
       "    .dataframe tbody tr th {\n",
       "        vertical-align: top;\n",
       "    }\n",
       "\n",
       "    .dataframe thead th {\n",
       "        text-align: right;\n",
       "    }\n",
       "</style>\n",
       "<table border=\"1\" class=\"dataframe\">\n",
       "  <thead>\n",
       "    <tr style=\"text-align: right;\">\n",
       "      <th></th>\n",
       "      <th>Oid</th>\n",
       "      <th>MKey</th>\n",
       "      <th>Closed</th>\n",
       "      <th>CompletionStatus</th>\n",
       "      <th>HasSafetyRec</th>\n",
       "      <th>HighestInjury</th>\n",
       "      <th>IsStudy</th>\n",
       "      <th>Mode</th>\n",
       "      <th>NtsbNumber</th>\n",
       "      <th>OriginalPublishedDate</th>\n",
       "      <th>...</th>\n",
       "      <th>FactualNarrative</th>\n",
       "      <th>PrelimNarrative</th>\n",
       "      <th>FatalInjuryCount</th>\n",
       "      <th>MinorInjuryCount</th>\n",
       "      <th>SeriousInjuryCount</th>\n",
       "      <th>InvestigationClass</th>\n",
       "      <th>AccidentSiteCondition</th>\n",
       "      <th>Latitude</th>\n",
       "      <th>Longitude</th>\n",
       "      <th>DocketOriginalPublishDate</th>\n",
       "    </tr>\n",
       "  </thead>\n",
       "  <tbody>\n",
       "    <tr>\n",
       "      <th>1</th>\n",
       "      <td>683e9919542826cd3fc639c0</td>\n",
       "      <td>199991</td>\n",
       "      <td>False</td>\n",
       "      <td>In work</td>\n",
       "      <td>False</td>\n",
       "      <td>Fatal</td>\n",
       "      <td>False</td>\n",
       "      <td>Aviation</td>\n",
       "      <td>ERA25MA171</td>\n",
       "      <td>None</td>\n",
       "      <td>...</td>\n",
       "      <td>None</td>\n",
       "      <td>On April 10, 2025, about 1515 eastern daylight...</td>\n",
       "      <td>6</td>\n",
       "      <td>0</td>\n",
       "      <td>0</td>\n",
       "      <td>NaN</td>\n",
       "      <td>VMC</td>\n",
       "      <td>40.728895</td>\n",
       "      <td>-74.027206</td>\n",
       "      <td>None</td>\n",
       "    </tr>\n",
       "    <tr>\n",
       "      <th>2</th>\n",
       "      <td>683e9918542826cd3fc63984</td>\n",
       "      <td>199881</td>\n",
       "      <td>False</td>\n",
       "      <td>In work</td>\n",
       "      <td>False</td>\n",
       "      <td>Fatal</td>\n",
       "      <td>False</td>\n",
       "      <td>Aviation</td>\n",
       "      <td>WPR25FA114</td>\n",
       "      <td>None</td>\n",
       "      <td>...</td>\n",
       "      <td>None</td>\n",
       "      <td>On March 19, 2025, at 1228 Pacific daylight ti...</td>\n",
       "      <td>1</td>\n",
       "      <td>0</td>\n",
       "      <td>0</td>\n",
       "      <td>NaN</td>\n",
       "      <td>VMC</td>\n",
       "      <td>46.236369</td>\n",
       "      <td>-117.935260</td>\n",
       "      <td>None</td>\n",
       "    </tr>\n",
       "    <tr>\n",
       "      <th>3</th>\n",
       "      <td>683e9918542826cd3fc63979</td>\n",
       "      <td>199861</td>\n",
       "      <td>False</td>\n",
       "      <td>In work</td>\n",
       "      <td>False</td>\n",
       "      <td>Fatal</td>\n",
       "      <td>False</td>\n",
       "      <td>Aviation</td>\n",
       "      <td>CEN25FA124</td>\n",
       "      <td>None</td>\n",
       "      <td>...</td>\n",
       "      <td>None</td>\n",
       "      <td>On March 15, 2025, about 1500 eastern daylight...</td>\n",
       "      <td>1</td>\n",
       "      <td>0</td>\n",
       "      <td>0</td>\n",
       "      <td>NaN</td>\n",
       "      <td>IMC</td>\n",
       "      <td>36.649272</td>\n",
       "      <td>-79.494058</td>\n",
       "      <td>None</td>\n",
       "    </tr>\n",
       "    <tr>\n",
       "      <th>4</th>\n",
       "      <td>683e9918542826cd3fc63975</td>\n",
       "      <td>199857</td>\n",
       "      <td>False</td>\n",
       "      <td>In work</td>\n",
       "      <td>False</td>\n",
       "      <td>Fatal</td>\n",
       "      <td>False</td>\n",
       "      <td>Aviation</td>\n",
       "      <td>ERA25LA144</td>\n",
       "      <td>None</td>\n",
       "      <td>...</td>\n",
       "      <td>None</td>\n",
       "      <td>On March 14, 2025, about 0700 eastern daylight...</td>\n",
       "      <td>1</td>\n",
       "      <td>0</td>\n",
       "      <td>0</td>\n",
       "      <td>NaN</td>\n",
       "      <td>VMC</td>\n",
       "      <td>41.060710</td>\n",
       "      <td>-81.375438</td>\n",
       "      <td>None</td>\n",
       "    </tr>\n",
       "    <tr>\n",
       "      <th>5</th>\n",
       "      <td>683e9918542826cd3fc63963</td>\n",
       "      <td>199825</td>\n",
       "      <td>False</td>\n",
       "      <td>In work</td>\n",
       "      <td>False</td>\n",
       "      <td>Fatal</td>\n",
       "      <td>False</td>\n",
       "      <td>Aviation</td>\n",
       "      <td>CEN25MA115</td>\n",
       "      <td>None</td>\n",
       "      <td>...</td>\n",
       "      <td>None</td>\n",
       "      <td>On March 10, 2025, about 1237 central daylight...</td>\n",
       "      <td>3</td>\n",
       "      <td>0</td>\n",
       "      <td>0</td>\n",
       "      <td>NaN</td>\n",
       "      <td>VMC</td>\n",
       "      <td>32.559192</td>\n",
       "      <td>-89.907614</td>\n",
       "      <td>None</td>\n",
       "    </tr>\n",
       "    <tr>\n",
       "      <th>...</th>\n",
       "      <td>...</td>\n",
       "      <td>...</td>\n",
       "      <td>...</td>\n",
       "      <td>...</td>\n",
       "      <td>...</td>\n",
       "      <td>...</td>\n",
       "      <td>...</td>\n",
       "      <td>...</td>\n",
       "      <td>...</td>\n",
       "      <td>...</td>\n",
       "      <td>...</td>\n",
       "      <td>...</td>\n",
       "      <td>...</td>\n",
       "      <td>...</td>\n",
       "      <td>...</td>\n",
       "      <td>...</td>\n",
       "      <td>...</td>\n",
       "      <td>...</td>\n",
       "      <td>...</td>\n",
       "      <td>...</td>\n",
       "      <td>...</td>\n",
       "    </tr>\n",
       "    <tr>\n",
       "      <th>693</th>\n",
       "      <td>683e9902542826cd3fc5d8f4</td>\n",
       "      <td>75577</td>\n",
       "      <td>True</td>\n",
       "      <td>Completed</td>\n",
       "      <td>False</td>\n",
       "      <td>Fatal</td>\n",
       "      <td>False</td>\n",
       "      <td>Aviation</td>\n",
       "      <td>ERA10MA188</td>\n",
       "      <td>2012-01-19T05:00:00Z</td>\n",
       "      <td>...</td>\n",
       "      <td>The accident helicopter was a Eurocopter AS350...</td>\n",
       "      <td>None</td>\n",
       "      <td>3</td>\n",
       "      <td>0</td>\n",
       "      <td>0</td>\n",
       "      <td>NaN</td>\n",
       "      <td>IMC</td>\n",
       "      <td>35.607223</td>\n",
       "      <td>-89.194999</td>\n",
       "      <td>2012-07-25T17:51:00Z</td>\n",
       "    </tr>\n",
       "    <tr>\n",
       "      <th>695</th>\n",
       "      <td>683e9902542826cd3fc5d895</td>\n",
       "      <td>75449</td>\n",
       "      <td>True</td>\n",
       "      <td>Completed</td>\n",
       "      <td>False</td>\n",
       "      <td>Fatal</td>\n",
       "      <td>False</td>\n",
       "      <td>Aviation</td>\n",
       "      <td>CEN10FA139</td>\n",
       "      <td>2011-12-19T05:00:00Z</td>\n",
       "      <td>...</td>\n",
       "      <td>HISTORY OF FLIGHT&amp;#x0D;\\n&amp;#x0D;\\nOn March 6, 2...</td>\n",
       "      <td>None</td>\n",
       "      <td>2</td>\n",
       "      <td>0</td>\n",
       "      <td>0</td>\n",
       "      <td>NaN</td>\n",
       "      <td>VMC</td>\n",
       "      <td>28.602500</td>\n",
       "      <td>-99.338058</td>\n",
       "      <td>2011-11-09T14:29:00Z</td>\n",
       "    </tr>\n",
       "    <tr>\n",
       "      <th>697</th>\n",
       "      <td>683e9902542826cd3fc5d846</td>\n",
       "      <td>75360</td>\n",
       "      <td>True</td>\n",
       "      <td>Completed</td>\n",
       "      <td>False</td>\n",
       "      <td>Fatal</td>\n",
       "      <td>False</td>\n",
       "      <td>Aviation</td>\n",
       "      <td>WPR10FA133</td>\n",
       "      <td>2012-11-07T05:00:00Z</td>\n",
       "      <td>...</td>\n",
       "      <td>HISTORY OF FLIGHT&amp;#x0D;\\n&amp;#x0D;\\nOn February 1...</td>\n",
       "      <td>None</td>\n",
       "      <td>5</td>\n",
       "      <td>0</td>\n",
       "      <td>0</td>\n",
       "      <td>NaN</td>\n",
       "      <td>VMC</td>\n",
       "      <td>33.848056</td>\n",
       "      <td>-111.925277</td>\n",
       "      <td>2012-10-31T20:00:00Z</td>\n",
       "    </tr>\n",
       "    <tr>\n",
       "      <th>698</th>\n",
       "      <td>683e9902542826cd3fc5d837</td>\n",
       "      <td>75342</td>\n",
       "      <td>True</td>\n",
       "      <td>Completed</td>\n",
       "      <td>False</td>\n",
       "      <td>Fatal</td>\n",
       "      <td>False</td>\n",
       "      <td>Aviation</td>\n",
       "      <td>CEN10FA113</td>\n",
       "      <td>2011-11-29T05:00:00Z</td>\n",
       "      <td>...</td>\n",
       "      <td>HISTORY OF FLIGHT &amp;#x0D;\\n&amp;#x0D;\\nOn February ...</td>\n",
       "      <td>None</td>\n",
       "      <td>3</td>\n",
       "      <td>0</td>\n",
       "      <td>0</td>\n",
       "      <td>NaN</td>\n",
       "      <td>VMC</td>\n",
       "      <td>32.108890</td>\n",
       "      <td>-105.955001</td>\n",
       "      <td>2011-10-07T13:33:00Z</td>\n",
       "    </tr>\n",
       "    <tr>\n",
       "      <th>701</th>\n",
       "      <td>683e9902542826cd3fc5d7d4</td>\n",
       "      <td>75226</td>\n",
       "      <td>True</td>\n",
       "      <td>Completed</td>\n",
       "      <td>False</td>\n",
       "      <td>Fatal</td>\n",
       "      <td>False</td>\n",
       "      <td>Aviation</td>\n",
       "      <td>WPR10GA097</td>\n",
       "      <td>2011-04-12T04:00:00Z</td>\n",
       "      <td>...</td>\n",
       "      <td>HISTORY OF FLIGHT&amp;#x0D;\\n&amp;#x0D;\\nOn January 5,...</td>\n",
       "      <td>None</td>\n",
       "      <td>4</td>\n",
       "      <td>0</td>\n",
       "      <td>0</td>\n",
       "      <td>NaN</td>\n",
       "      <td>VMC</td>\n",
       "      <td>37.146389</td>\n",
       "      <td>-119.461112</td>\n",
       "      <td>2011-01-03T17:47:00Z</td>\n",
       "    </tr>\n",
       "  </tbody>\n",
       "</table>\n",
       "<p>353 rows × 39 columns</p>\n",
       "</div>"
      ],
      "text/plain": [
       "                          Oid    MKey  Closed CompletionStatus  HasSafetyRec  \\\n",
       "1    683e9919542826cd3fc639c0  199991   False          In work         False   \n",
       "2    683e9918542826cd3fc63984  199881   False          In work         False   \n",
       "3    683e9918542826cd3fc63979  199861   False          In work         False   \n",
       "4    683e9918542826cd3fc63975  199857   False          In work         False   \n",
       "5    683e9918542826cd3fc63963  199825   False          In work         False   \n",
       "..                        ...     ...     ...              ...           ...   \n",
       "693  683e9902542826cd3fc5d8f4   75577    True        Completed         False   \n",
       "695  683e9902542826cd3fc5d895   75449    True        Completed         False   \n",
       "697  683e9902542826cd3fc5d846   75360    True        Completed         False   \n",
       "698  683e9902542826cd3fc5d837   75342    True        Completed         False   \n",
       "701  683e9902542826cd3fc5d7d4   75226    True        Completed         False   \n",
       "\n",
       "    HighestInjury  IsStudy      Mode  NtsbNumber OriginalPublishedDate  ...  \\\n",
       "1           Fatal    False  Aviation  ERA25MA171                  None  ...   \n",
       "2           Fatal    False  Aviation  WPR25FA114                  None  ...   \n",
       "3           Fatal    False  Aviation  CEN25FA124                  None  ...   \n",
       "4           Fatal    False  Aviation  ERA25LA144                  None  ...   \n",
       "5           Fatal    False  Aviation  CEN25MA115                  None  ...   \n",
       "..            ...      ...       ...         ...                   ...  ...   \n",
       "693         Fatal    False  Aviation  ERA10MA188  2012-01-19T05:00:00Z  ...   \n",
       "695         Fatal    False  Aviation  CEN10FA139  2011-12-19T05:00:00Z  ...   \n",
       "697         Fatal    False  Aviation  WPR10FA133  2012-11-07T05:00:00Z  ...   \n",
       "698         Fatal    False  Aviation  CEN10FA113  2011-11-29T05:00:00Z  ...   \n",
       "701         Fatal    False  Aviation  WPR10GA097  2011-04-12T04:00:00Z  ...   \n",
       "\n",
       "                                      FactualNarrative  \\\n",
       "1                                                 None   \n",
       "2                                                 None   \n",
       "3                                                 None   \n",
       "4                                                 None   \n",
       "5                                                 None   \n",
       "..                                                 ...   \n",
       "693  The accident helicopter was a Eurocopter AS350...   \n",
       "695  HISTORY OF FLIGHT&#x0D;\\n&#x0D;\\nOn March 6, 2...   \n",
       "697  HISTORY OF FLIGHT&#x0D;\\n&#x0D;\\nOn February 1...   \n",
       "698  HISTORY OF FLIGHT &#x0D;\\n&#x0D;\\nOn February ...   \n",
       "701  HISTORY OF FLIGHT&#x0D;\\n&#x0D;\\nOn January 5,...   \n",
       "\n",
       "                                       PrelimNarrative FatalInjuryCount  \\\n",
       "1    On April 10, 2025, about 1515 eastern daylight...                6   \n",
       "2    On March 19, 2025, at 1228 Pacific daylight ti...                1   \n",
       "3    On March 15, 2025, about 1500 eastern daylight...                1   \n",
       "4    On March 14, 2025, about 0700 eastern daylight...                1   \n",
       "5    On March 10, 2025, about 1237 central daylight...                3   \n",
       "..                                                 ...              ...   \n",
       "693                                               None                3   \n",
       "695                                               None                2   \n",
       "697                                               None                5   \n",
       "698                                               None                3   \n",
       "701                                               None                4   \n",
       "\n",
       "    MinorInjuryCount SeriousInjuryCount InvestigationClass  \\\n",
       "1                  0                  0                NaN   \n",
       "2                  0                  0                NaN   \n",
       "3                  0                  0                NaN   \n",
       "4                  0                  0                NaN   \n",
       "5                  0                  0                NaN   \n",
       "..               ...                ...                ...   \n",
       "693                0                  0                NaN   \n",
       "695                0                  0                NaN   \n",
       "697                0                  0                NaN   \n",
       "698                0                  0                NaN   \n",
       "701                0                  0                NaN   \n",
       "\n",
       "    AccidentSiteCondition   Latitude   Longitude DocketOriginalPublishDate  \n",
       "1                     VMC  40.728895  -74.027206                      None  \n",
       "2                     VMC  46.236369 -117.935260                      None  \n",
       "3                     IMC  36.649272  -79.494058                      None  \n",
       "4                     VMC  41.060710  -81.375438                      None  \n",
       "5                     VMC  32.559192  -89.907614                      None  \n",
       "..                    ...        ...         ...                       ...  \n",
       "693                   IMC  35.607223  -89.194999      2012-07-25T17:51:00Z  \n",
       "695                   VMC  28.602500  -99.338058      2011-11-09T14:29:00Z  \n",
       "697                   VMC  33.848056 -111.925277      2012-10-31T20:00:00Z  \n",
       "698                   VMC  32.108890 -105.955001      2011-10-07T13:33:00Z  \n",
       "701                   VMC  37.146389 -119.461112      2011-01-03T17:47:00Z  \n",
       "\n",
       "[353 rows x 39 columns]"
      ]
     },
     "execution_count": 79,
     "metadata": {},
     "output_type": "execute_result"
    }
   ],
   "source": [
    "df_json_clean"
   ]
  },
  {
   "cell_type": "code",
   "execution_count": 80,
   "metadata": {},
   "outputs": [
    {
     "name": "stdout",
     "output_type": "stream",
     "text": [
      "Column[Oid] = 0 null values\n",
      "Column[MKey] = 0 null values\n",
      "Column[Closed] = 0 null values\n",
      "Column[CompletionStatus] = 0 null values\n",
      "Column[HasSafetyRec] = 0 null values\n",
      "Column[HighestInjury] = 0 null values\n",
      "Column[IsStudy] = 0 null values\n",
      "Column[Mode] = 0 null values\n",
      "Column[NtsbNumber] = 0 null values\n",
      "Column[OriginalPublishedDate] = 62 null values\n",
      "Column[MostRecentReportType] = 0 null values\n",
      "Column[ProbableCause] = 63 null values\n",
      "Column[City] = 0 null values\n",
      "Column[Country] = 0 null values\n",
      "Column[EventDate] = 0 null values\n",
      "Column[State] = 0 null values\n",
      "Column[Agency] = 0 null values\n",
      "Column[BoardLaunch] = 0 null values\n",
      "Column[BoardMeetingDate] = 351 null values\n",
      "Column[DocketDate] = 352 null values\n",
      "Column[EventType] = 0 null values\n",
      "Column[Launch] = 42 null values\n",
      "Column[ReportDate] = 161 null values\n",
      "Column[ReportNum] = 343 null values\n",
      "Column[ReportType] = 0 null values\n",
      "Column[Vehicles] = 0 null values\n",
      "Column[AirportId] = 265 null values\n",
      "Column[AirportName] = 267 null values\n",
      "Column[AnalysisNarrative] = 66 null values\n",
      "Column[FactualNarrative] = 67 null values\n",
      "Column[PrelimNarrative] = 323 null values\n",
      "Column[FatalInjuryCount] = 0 null values\n",
      "Column[MinorInjuryCount] = 0 null values\n",
      "Column[SeriousInjuryCount] = 0 null values\n",
      "Column[InvestigationClass] = 353 null values\n",
      "Column[AccidentSiteCondition] = 32 null values\n",
      "Column[Latitude] = 19 null values\n",
      "Column[Longitude] = 19 null values\n",
      "Column[DocketOriginalPublishDate] = 62 null values\n"
     ]
    }
   ],
   "source": [
    "# Check for remaining null values\n",
    "for i in df_json_clean.columns:\n",
    "    print(f\"Column[{i}] = {df_json_clean[i].isna().sum()} null values\")"
   ]
  },
  {
   "cell_type": "markdown",
   "metadata": {},
   "source": []
  },
  {
   "cell_type": "code",
   "execution_count": 81,
   "metadata": {
    "id": "ionB2sRaMUmY"
   },
   "outputs": [],
   "source": [
    "#FILL IN - Validate the cleaning was successful\n"
   ]
  },
  {
   "cell_type": "markdown",
   "metadata": {},
   "source": [
    "Justification: *FILL IN*\n",
    "\n",
    "In this dataset, columns like OriginalPublishedDate, MostRecentReportType, ProbableCause, and others have significant null values. Addressing these will help ensure that analyses conducted on this data are robust, reliable, and actionable. We could possibly choose to fill in these null values with appropriate substitutes (like averages, medians, or mode) or remove rows with significant null values."
   ]
  },
  {
   "cell_type": "markdown",
   "metadata": {
    "id": "bIUrrfSNyOPR"
   },
   "source": [
    "### **Tidiness Issue 1: FILL IN**"
   ]
  },
  {
   "cell_type": "code",
   "execution_count": 82,
   "metadata": {
    "id": "fib0zAm333bn"
   },
   "outputs": [],
   "source": [
    "#FILL IN - Apply the cleaning strategy"
   ]
  },
  {
   "cell_type": "code",
   "execution_count": 83,
   "metadata": {
    "id": "yhrnUGY_Nk8B"
   },
   "outputs": [],
   "source": [
    "#FILL IN - Validate the cleaning was successful"
   ]
  },
  {
   "cell_type": "markdown",
   "metadata": {},
   "source": [
    "Justification: *FILL IN*"
   ]
  },
  {
   "cell_type": "markdown",
   "metadata": {
    "id": "o51Bt8kwyTzk"
   },
   "source": [
    "### **Tidiness Issue 2: FILL IN**"
   ]
  },
  {
   "cell_type": "code",
   "execution_count": 84,
   "metadata": {
    "id": "7zW8O5yx4Y9O"
   },
   "outputs": [],
   "source": [
    "#FILL IN - Apply the cleaning strategy"
   ]
  },
  {
   "cell_type": "code",
   "execution_count": 85,
   "metadata": {
    "id": "q6I_Sr7lxXi5"
   },
   "outputs": [],
   "source": [
    "#FILL IN - Validate the cleaning was successful"
   ]
  },
  {
   "cell_type": "markdown",
   "metadata": {},
   "source": [
    "Justification: *FILL IN*"
   ]
  },
  {
   "cell_type": "markdown",
   "metadata": {},
   "source": [
    "### **Remove unnecessary variables and combine datasets**\n",
    "\n",
    "Depending on the datasets, you can also peform the combination before the cleaning steps."
   ]
  },
  {
   "cell_type": "code",
   "execution_count": 86,
   "metadata": {},
   "outputs": [],
   "source": [
    "#FILL IN - Remove unnecessary variables and combine datasets"
   ]
  },
  {
   "cell_type": "markdown",
   "metadata": {
    "id": "F42urHuzttjF"
   },
   "source": [
    "## 4. Update your data store\n",
    "Update your local database/data store with the cleaned data, following best practices for storing your cleaned data:\n",
    "\n",
    "- Must maintain different instances / versions of data (raw and cleaned data)\n",
    "- Must name the dataset files informatively\n",
    "- Ensure both the raw and cleaned data is saved to your database/data store"
   ]
  },
  {
   "cell_type": "code",
   "execution_count": 87,
   "metadata": {
    "id": "V3uay7EJUV_L"
   },
   "outputs": [],
   "source": [
    "#FILL IN - saving data"
   ]
  },
  {
   "cell_type": "markdown",
   "metadata": {
    "id": "cGy_yddGtzhM"
   },
   "source": [
    "## 5. Answer the research question\n",
    "\n",
    "### **5.1:** Define and answer the research question \n",
    "Going back to the problem statement in step 1, use the cleaned data to answer the question you raised. Produce **at least** two visualizations using the cleaned data and explain how they help you answer the question."
   ]
  },
  {
   "cell_type": "markdown",
   "metadata": {
    "id": "gjedE4s4ZkEd"
   },
   "source": [
    "*Research question:* FILL IN from answer to Step 1"
   ]
  },
  {
   "cell_type": "code",
   "execution_count": 88,
   "metadata": {
    "id": "Lkw3rW9kZmOm"
   },
   "outputs": [],
   "source": [
    "#Visual 1 - FILL IN"
   ]
  },
  {
   "cell_type": "markdown",
   "metadata": {},
   "source": [
    "*Answer to research question:* FILL IN"
   ]
  },
  {
   "cell_type": "code",
   "execution_count": 89,
   "metadata": {
    "id": "6fdK_8ZGZm9R"
   },
   "outputs": [],
   "source": [
    "#Visual 2 - FILL IN"
   ]
  },
  {
   "cell_type": "markdown",
   "metadata": {
    "id": "K5RgvMGUZoHn"
   },
   "source": [
    "*Answer to research question:* FILL IN"
   ]
  },
  {
   "cell_type": "markdown",
   "metadata": {
    "id": "0ezWXXZVj-TP"
   },
   "source": [
    "### **5.2:** Reflection\n",
    "In 2-4 sentences, if you had more time to complete the project, what actions would you take? For example, which data quality and structural issues would you look into further, and what research questions would you further explore?"
   ]
  },
  {
   "cell_type": "markdown",
   "metadata": {
    "id": "XB3RBDG5kFe1"
   },
   "source": [
    "*Answer:* FILL IN"
   ]
  }
 ],
 "metadata": {
  "colab": {
   "provenance": []
  },
  "kernelspec": {
   "display_name": "base",
   "language": "python",
   "name": "python3"
  },
  "language_info": {
   "codemirror_mode": {
    "name": "ipython",
    "version": 3
   },
   "file_extension": ".py",
   "mimetype": "text/x-python",
   "name": "python",
   "nbconvert_exporter": "python",
   "pygments_lexer": "ipython3",
   "version": "3.12.4"
  }
 },
 "nbformat": 4,
 "nbformat_minor": 1
}
